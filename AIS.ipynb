{
 "cells": [
  {
   "cell_type": "code",
   "execution_count": 3,
   "metadata": {},
   "outputs": [],
   "source": [
    "import numpy as np\n",
    "import pandas as pd\n",
    "import matplotlib.pyplot as plt\n",
    "import seaborn as sns\n",
    "from scipy import stats, sparse, spatial\n",
    "from qiime2 import Artifact\n",
    "%matplotlib inline"
   ]
  },
  {
   "cell_type": "code",
   "execution_count": 504,
   "metadata": {},
   "outputs": [],
   "source": [
    "data = Artifact.load(\"../Chemobrain/200608_Elsayed_Lowry-1101/tax-table.qza\").view(pd.DataFrame)"
   ]
  },
  {
   "cell_type": "code",
   "execution_count": 505,
   "metadata": {
    "scrolled": true
   },
   "outputs": [
    {
     "name": "stderr",
     "output_type": "stream",
     "text": [
      "/opt/anaconda3/envs/qiime2-2020.6-NEW/lib/python3.6/site-packages/ipykernel_launcher.py:6: UserWarning: Boolean Series key will be reindexed to match DataFrame index.\n",
      "  \n"
     ]
    }
   ],
   "source": [
    "mapping = pd.read_csv(\"../Chemobrain/200608_Elsayed_Lowry-1101/Categorical-meta-v3.tsv\", sep = \"\\t\",\n",
    "           index_col=\"sampleid\")\n",
    "\n",
    "data.index = data.index.astype(float)\n",
    "\n",
    "data = data[mapping[\"hcvsbc-cat\"].isna()==False]"
   ]
  },
  {
   "cell_type": "code",
   "execution_count": 531,
   "metadata": {},
   "outputs": [
    {
     "data": {
      "text/html": [
       "<div>\n",
       "<style scoped>\n",
       "    .dataframe tbody tr th:only-of-type {\n",
       "        vertical-align: middle;\n",
       "    }\n",
       "\n",
       "    .dataframe tbody tr th {\n",
       "        vertical-align: top;\n",
       "    }\n",
       "\n",
       "    .dataframe thead th {\n",
       "        text-align: right;\n",
       "    }\n",
       "</style>\n",
       "<table border=\"1\" class=\"dataframe\">\n",
       "  <thead>\n",
       "    <tr style=\"text-align: right;\">\n",
       "      <th></th>\n",
       "      <th>d__Archaea;p__Euryarchaeota;c__Methanobacteria;o__Methanobacteriales;f__Methanobacteriaceae;g__Methanobacterium;__</th>\n",
       "      <th>d__Archaea;p__Euryarchaeota;c__Methanobacteria;o__Methanobacteriales;f__Methanobacteriaceae;g__Methanobrevibacter;s__Methanobrevibacter_smithii</th>\n",
       "      <th>d__Archaea;p__Thermoplasmatota;c__Thermoplasmata;o__Methanomassiliicoccales;f__Methanomethylophilaceae;__;__</th>\n",
       "      <th>d__Bacteria;__;__;__;__;__;__</th>\n",
       "      <th>d__Bacteria;p__Actinobacteriota;c__Actinobacteria;o__Actinomycetales;f__Actinomycetaceae;g__Actinomyces;__</th>\n",
       "      <th>d__Bacteria;p__Actinobacteriota;c__Actinobacteria;o__Actinomycetales;f__Actinomycetaceae;g__Actinomyces;s__Actinomyces_graevenitzii</th>\n",
       "      <th>d__Bacteria;p__Actinobacteriota;c__Actinobacteria;o__Actinomycetales;f__Actinomycetaceae;g__Actinomyces;s__Schaalia_odontolytica</th>\n",
       "      <th>d__Bacteria;p__Actinobacteriota;c__Actinobacteria;o__Actinomycetales;f__Actinomycetaceae;g__Actinomyces;s__Schaalia_radingae</th>\n",
       "      <th>d__Bacteria;p__Actinobacteriota;c__Actinobacteria;o__Actinomycetales;f__Actinomycetaceae;g__Actinomyces;s__Winkia_neuii</th>\n",
       "      <th>d__Bacteria;p__Actinobacteriota;c__Actinobacteria;o__Actinomycetales;f__Actinomycetaceae;g__Arcanobacterium;s__Arcanobacterium_sp.</th>\n",
       "      <th>...</th>\n",
       "      <th>d__Bacteria;p__Verrucomicrobiota;c__Lentisphaeria;o__Victivallales;f__Victivallaceae;g__Victivallis;__</th>\n",
       "      <th>d__Bacteria;p__Verrucomicrobiota;c__Lentisphaeria;o__Victivallales;f__Victivallaceae;g__Victivallis;s__Victivallis_vadensis</th>\n",
       "      <th>d__Bacteria;p__Verrucomicrobiota;c__Lentisphaeria;o__Victivallales;f__vadinBE97;g__vadinBE97;s__uncultured_rumen</th>\n",
       "      <th>d__Bacteria;p__Verrucomicrobiota;c__Verrucomicrobiae;o__Opitutales;f__Puniceicoccaceae;g__uncultured;s__uncultured_bacterium</th>\n",
       "      <th>d__Bacteria;p__Verrucomicrobiota;c__Verrucomicrobiae;o__Verrucomicrobiales;f__Akkermansiaceae;g__Akkermansia;__</th>\n",
       "      <th>d__Bacteria;p__Verrucomicrobiota;c__Verrucomicrobiae;o__Verrucomicrobiales;f__Akkermansiaceae;g__Akkermansia;s__Akkermansia_muciniphila</th>\n",
       "      <th>d__Bacteria;p__Verrucomicrobiota;c__Verrucomicrobiae;o__Verrucomicrobiales;f__Akkermansiaceae;g__Akkermansia;s__Akkermansia_sp.</th>\n",
       "      <th>d__Bacteria;p__Verrucomicrobiota;c__Verrucomicrobiae;o__Verrucomicrobiales;f__Akkermansiaceae;g__Akkermansia;s__uncultured_organism</th>\n",
       "      <th>d__Eukaryota;p__Basidiomycota;c__Microbotryomycetes;o__Sporidiobolales;f__Sporidiobolaceae;g__Rhodotorula;s__Rhodotorula_mucilaginosa</th>\n",
       "      <th>hcvsbc-cat</th>\n",
       "    </tr>\n",
       "  </thead>\n",
       "  <tbody>\n",
       "    <tr>\n",
       "      <th>1.0</th>\n",
       "      <td>0.000000</td>\n",
       "      <td>0.000000</td>\n",
       "      <td>0.0</td>\n",
       "      <td>0.000000</td>\n",
       "      <td>0.000000</td>\n",
       "      <td>0.0</td>\n",
       "      <td>0.0</td>\n",
       "      <td>0.0</td>\n",
       "      <td>0.000000</td>\n",
       "      <td>0.0</td>\n",
       "      <td>...</td>\n",
       "      <td>0.00000</td>\n",
       "      <td>0.000000</td>\n",
       "      <td>0.0</td>\n",
       "      <td>0.0</td>\n",
       "      <td>0.0</td>\n",
       "      <td>0.00000</td>\n",
       "      <td>0.0</td>\n",
       "      <td>0.0</td>\n",
       "      <td>0.0</td>\n",
       "      <td>1 - Yes</td>\n",
       "    </tr>\n",
       "    <tr>\n",
       "      <th>10.0</th>\n",
       "      <td>0.000000</td>\n",
       "      <td>0.005351</td>\n",
       "      <td>0.0</td>\n",
       "      <td>0.000048</td>\n",
       "      <td>0.003536</td>\n",
       "      <td>0.0</td>\n",
       "      <td>0.0</td>\n",
       "      <td>0.0</td>\n",
       "      <td>0.000000</td>\n",
       "      <td>0.0</td>\n",
       "      <td>...</td>\n",
       "      <td>0.00000</td>\n",
       "      <td>0.000000</td>\n",
       "      <td>0.0</td>\n",
       "      <td>0.0</td>\n",
       "      <td>0.0</td>\n",
       "      <td>0.00000</td>\n",
       "      <td>0.0</td>\n",
       "      <td>0.0</td>\n",
       "      <td>0.0</td>\n",
       "      <td>2 - No</td>\n",
       "    </tr>\n",
       "    <tr>\n",
       "      <th>12.0</th>\n",
       "      <td>0.000000</td>\n",
       "      <td>0.000000</td>\n",
       "      <td>0.0</td>\n",
       "      <td>0.000000</td>\n",
       "      <td>0.000000</td>\n",
       "      <td>0.0</td>\n",
       "      <td>0.0</td>\n",
       "      <td>0.0</td>\n",
       "      <td>0.000000</td>\n",
       "      <td>0.0</td>\n",
       "      <td>...</td>\n",
       "      <td>0.00000</td>\n",
       "      <td>0.000000</td>\n",
       "      <td>0.0</td>\n",
       "      <td>0.0</td>\n",
       "      <td>0.0</td>\n",
       "      <td>0.00000</td>\n",
       "      <td>0.0</td>\n",
       "      <td>0.0</td>\n",
       "      <td>0.0</td>\n",
       "      <td>2 - No</td>\n",
       "    </tr>\n",
       "    <tr>\n",
       "      <th>14.0</th>\n",
       "      <td>0.000121</td>\n",
       "      <td>0.000000</td>\n",
       "      <td>0.0</td>\n",
       "      <td>0.000000</td>\n",
       "      <td>0.001397</td>\n",
       "      <td>0.0</td>\n",
       "      <td>0.0</td>\n",
       "      <td>0.0</td>\n",
       "      <td>0.000000</td>\n",
       "      <td>0.0</td>\n",
       "      <td>...</td>\n",
       "      <td>0.00000</td>\n",
       "      <td>0.000000</td>\n",
       "      <td>0.0</td>\n",
       "      <td>0.0</td>\n",
       "      <td>0.0</td>\n",
       "      <td>0.00000</td>\n",
       "      <td>0.0</td>\n",
       "      <td>0.0</td>\n",
       "      <td>0.0</td>\n",
       "      <td>1 - Yes</td>\n",
       "    </tr>\n",
       "    <tr>\n",
       "      <th>15.0</th>\n",
       "      <td>0.000000</td>\n",
       "      <td>0.002961</td>\n",
       "      <td>0.0</td>\n",
       "      <td>0.000039</td>\n",
       "      <td>0.000000</td>\n",
       "      <td>0.0</td>\n",
       "      <td>0.0</td>\n",
       "      <td>0.0</td>\n",
       "      <td>0.000341</td>\n",
       "      <td>0.0</td>\n",
       "      <td>...</td>\n",
       "      <td>0.00169</td>\n",
       "      <td>0.001376</td>\n",
       "      <td>0.0</td>\n",
       "      <td>0.0</td>\n",
       "      <td>0.0</td>\n",
       "      <td>0.00245</td>\n",
       "      <td>0.0</td>\n",
       "      <td>0.0</td>\n",
       "      <td>0.0</td>\n",
       "      <td>2 - No</td>\n",
       "    </tr>\n",
       "  </tbody>\n",
       "</table>\n",
       "<p>5 rows × 662 columns</p>\n",
       "</div>"
      ],
      "text/plain": [
       "      d__Archaea;p__Euryarchaeota;c__Methanobacteria;o__Methanobacteriales;f__Methanobacteriaceae;g__Methanobacterium;__  \\\n",
       "1.0                                            0.000000                                                                    \n",
       "10.0                                           0.000000                                                                    \n",
       "12.0                                           0.000000                                                                    \n",
       "14.0                                           0.000121                                                                    \n",
       "15.0                                           0.000000                                                                    \n",
       "\n",
       "      d__Archaea;p__Euryarchaeota;c__Methanobacteria;o__Methanobacteriales;f__Methanobacteriaceae;g__Methanobrevibacter;s__Methanobrevibacter_smithii  \\\n",
       "1.0                                            0.000000                                                                                                 \n",
       "10.0                                           0.005351                                                                                                 \n",
       "12.0                                           0.000000                                                                                                 \n",
       "14.0                                           0.000000                                                                                                 \n",
       "15.0                                           0.002961                                                                                                 \n",
       "\n",
       "      d__Archaea;p__Thermoplasmatota;c__Thermoplasmata;o__Methanomassiliicoccales;f__Methanomethylophilaceae;__;__  \\\n",
       "1.0                                                 0.0                                                              \n",
       "10.0                                                0.0                                                              \n",
       "12.0                                                0.0                                                              \n",
       "14.0                                                0.0                                                              \n",
       "15.0                                                0.0                                                              \n",
       "\n",
       "      d__Bacteria;__;__;__;__;__;__  \\\n",
       "1.0                        0.000000   \n",
       "10.0                       0.000048   \n",
       "12.0                       0.000000   \n",
       "14.0                       0.000000   \n",
       "15.0                       0.000039   \n",
       "\n",
       "      d__Bacteria;p__Actinobacteriota;c__Actinobacteria;o__Actinomycetales;f__Actinomycetaceae;g__Actinomyces;__  \\\n",
       "1.0                                            0.000000                                                            \n",
       "10.0                                           0.003536                                                            \n",
       "12.0                                           0.000000                                                            \n",
       "14.0                                           0.001397                                                            \n",
       "15.0                                           0.000000                                                            \n",
       "\n",
       "      d__Bacteria;p__Actinobacteriota;c__Actinobacteria;o__Actinomycetales;f__Actinomycetaceae;g__Actinomyces;s__Actinomyces_graevenitzii  \\\n",
       "1.0                                                 0.0                                                                                     \n",
       "10.0                                                0.0                                                                                     \n",
       "12.0                                                0.0                                                                                     \n",
       "14.0                                                0.0                                                                                     \n",
       "15.0                                                0.0                                                                                     \n",
       "\n",
       "      d__Bacteria;p__Actinobacteriota;c__Actinobacteria;o__Actinomycetales;f__Actinomycetaceae;g__Actinomyces;s__Schaalia_odontolytica  \\\n",
       "1.0                                                 0.0                                                                                  \n",
       "10.0                                                0.0                                                                                  \n",
       "12.0                                                0.0                                                                                  \n",
       "14.0                                                0.0                                                                                  \n",
       "15.0                                                0.0                                                                                  \n",
       "\n",
       "      d__Bacteria;p__Actinobacteriota;c__Actinobacteria;o__Actinomycetales;f__Actinomycetaceae;g__Actinomyces;s__Schaalia_radingae  \\\n",
       "1.0                                                 0.0                                                                              \n",
       "10.0                                                0.0                                                                              \n",
       "12.0                                                0.0                                                                              \n",
       "14.0                                                0.0                                                                              \n",
       "15.0                                                0.0                                                                              \n",
       "\n",
       "      d__Bacteria;p__Actinobacteriota;c__Actinobacteria;o__Actinomycetales;f__Actinomycetaceae;g__Actinomyces;s__Winkia_neuii  \\\n",
       "1.0                                            0.000000                                                                         \n",
       "10.0                                           0.000000                                                                         \n",
       "12.0                                           0.000000                                                                         \n",
       "14.0                                           0.000000                                                                         \n",
       "15.0                                           0.000341                                                                         \n",
       "\n",
       "      d__Bacteria;p__Actinobacteriota;c__Actinobacteria;o__Actinomycetales;f__Actinomycetaceae;g__Arcanobacterium;s__Arcanobacterium_sp.  \\\n",
       "1.0                                                 0.0                                                                                    \n",
       "10.0                                                0.0                                                                                    \n",
       "12.0                                                0.0                                                                                    \n",
       "14.0                                                0.0                                                                                    \n",
       "15.0                                                0.0                                                                                    \n",
       "\n",
       "      ...  \\\n",
       "1.0   ...   \n",
       "10.0  ...   \n",
       "12.0  ...   \n",
       "14.0  ...   \n",
       "15.0  ...   \n",
       "\n",
       "      d__Bacteria;p__Verrucomicrobiota;c__Lentisphaeria;o__Victivallales;f__Victivallaceae;g__Victivallis;__  \\\n",
       "1.0                                             0.00000                                                        \n",
       "10.0                                            0.00000                                                        \n",
       "12.0                                            0.00000                                                        \n",
       "14.0                                            0.00000                                                        \n",
       "15.0                                            0.00169                                                        \n",
       "\n",
       "      d__Bacteria;p__Verrucomicrobiota;c__Lentisphaeria;o__Victivallales;f__Victivallaceae;g__Victivallis;s__Victivallis_vadensis  \\\n",
       "1.0                                            0.000000                                                                             \n",
       "10.0                                           0.000000                                                                             \n",
       "12.0                                           0.000000                                                                             \n",
       "14.0                                           0.000000                                                                             \n",
       "15.0                                           0.001376                                                                             \n",
       "\n",
       "      d__Bacteria;p__Verrucomicrobiota;c__Lentisphaeria;o__Victivallales;f__vadinBE97;g__vadinBE97;s__uncultured_rumen  \\\n",
       "1.0                                                 0.0                                                                  \n",
       "10.0                                                0.0                                                                  \n",
       "12.0                                                0.0                                                                  \n",
       "14.0                                                0.0                                                                  \n",
       "15.0                                                0.0                                                                  \n",
       "\n",
       "      d__Bacteria;p__Verrucomicrobiota;c__Verrucomicrobiae;o__Opitutales;f__Puniceicoccaceae;g__uncultured;s__uncultured_bacterium  \\\n",
       "1.0                                                 0.0                                                                              \n",
       "10.0                                                0.0                                                                              \n",
       "12.0                                                0.0                                                                              \n",
       "14.0                                                0.0                                                                              \n",
       "15.0                                                0.0                                                                              \n",
       "\n",
       "      d__Bacteria;p__Verrucomicrobiota;c__Verrucomicrobiae;o__Verrucomicrobiales;f__Akkermansiaceae;g__Akkermansia;__  \\\n",
       "1.0                                                 0.0                                                                 \n",
       "10.0                                                0.0                                                                 \n",
       "12.0                                                0.0                                                                 \n",
       "14.0                                                0.0                                                                 \n",
       "15.0                                                0.0                                                                 \n",
       "\n",
       "      d__Bacteria;p__Verrucomicrobiota;c__Verrucomicrobiae;o__Verrucomicrobiales;f__Akkermansiaceae;g__Akkermansia;s__Akkermansia_muciniphila  \\\n",
       "1.0                                             0.00000                                                                                         \n",
       "10.0                                            0.00000                                                                                         \n",
       "12.0                                            0.00000                                                                                         \n",
       "14.0                                            0.00000                                                                                         \n",
       "15.0                                            0.00245                                                                                         \n",
       "\n",
       "      d__Bacteria;p__Verrucomicrobiota;c__Verrucomicrobiae;o__Verrucomicrobiales;f__Akkermansiaceae;g__Akkermansia;s__Akkermansia_sp.  \\\n",
       "1.0                                                 0.0                                                                                 \n",
       "10.0                                                0.0                                                                                 \n",
       "12.0                                                0.0                                                                                 \n",
       "14.0                                                0.0                                                                                 \n",
       "15.0                                                0.0                                                                                 \n",
       "\n",
       "      d__Bacteria;p__Verrucomicrobiota;c__Verrucomicrobiae;o__Verrucomicrobiales;f__Akkermansiaceae;g__Akkermansia;s__uncultured_organism  \\\n",
       "1.0                                                 0.0                                                                                     \n",
       "10.0                                                0.0                                                                                     \n",
       "12.0                                                0.0                                                                                     \n",
       "14.0                                                0.0                                                                                     \n",
       "15.0                                                0.0                                                                                     \n",
       "\n",
       "      d__Eukaryota;p__Basidiomycota;c__Microbotryomycetes;o__Sporidiobolales;f__Sporidiobolaceae;g__Rhodotorula;s__Rhodotorula_mucilaginosa  \\\n",
       "1.0                                                 0.0                                                                                       \n",
       "10.0                                                0.0                                                                                       \n",
       "12.0                                                0.0                                                                                       \n",
       "14.0                                                0.0                                                                                       \n",
       "15.0                                                0.0                                                                                       \n",
       "\n",
       "      hcvsbc-cat  \n",
       "1.0      1 - Yes  \n",
       "10.0      2 - No  \n",
       "12.0      2 - No  \n",
       "14.0     1 - Yes  \n",
       "15.0      2 - No  \n",
       "\n",
       "[5 rows x 662 columns]"
      ]
     },
     "execution_count": 531,
     "metadata": {},
     "output_type": "execute_result"
    }
   ],
   "source": [
    "data.head()"
   ]
  },
  {
   "cell_type": "code",
   "execution_count": 506,
   "metadata": {},
   "outputs": [],
   "source": [
    "datamat = np.array(data)\n",
    "datamat /= datamat.sum(axis=1, keepdims=True)\n",
    "\n",
    "data = pd.DataFrame(datamat,\n",
    "                    index=data.index,\n",
    "                    columns=data.columns)"
   ]
  },
  {
   "cell_type": "code",
   "execution_count": 4,
   "metadata": {},
   "outputs": [],
   "source": [
    "def get_density(envdata):\n",
    "    #generate a numpy matrix for use later\n",
    "    datamat = np.array(envdata)\n",
    "\n",
    "    #quantify the density\n",
    "    density = ( np.count_nonzero(datamat) / float(datamat.size) )\n",
    "\n",
    "    return density\n",
    "\n",
    "\n",
    "def fit_to_microbiome(envdata):\n",
    "    #generate a numpy matrix for use later\n",
    "    datamat = np.array(envdata)\n",
    "\n",
    "    #quantify the general parameters to start populate with\n",
    "    #lognormal distributions are frequently used for microbiome data\n",
    "    s, loc, scale = stats.lognorm.fit(datamat[np.nonzero(datamat)])\n",
    "    rvs = stats.lognorm(s=s, loc=loc, scale=scale).rvs\n",
    "    \n",
    "    return rvs\n",
    "\n",
    "\n",
    "\n",
    "def populate_initial(n_features=1, n_cells=1, data_rvs=None):\n",
    "\n",
    "    #create a sparse matrix with a lognormal distribution\n",
    "    bcells = sparse.random(n_cells, n_features, density=density, \n",
    "              random_state=42, data_rvs=rvs).A\n",
    "\n",
    "    #convert to relative abundances\n",
    "    bcells /= bcells.sum(axis=1, keepdims=True)\n",
    "\n",
    "    return bcells\n"
   ]
  },
  {
   "cell_type": "code",
   "execution_count": 508,
   "metadata": {},
   "outputs": [],
   "source": [
    "density = get_density(data)\n",
    "rvs = fit_to_microbiome(data)\n",
    "\n",
    "bcells = populate_initial(n_features=data.shape[1], n_cells=100, data_rvs=rvs)"
   ]
  },
  {
   "cell_type": "code",
   "execution_count": 509,
   "metadata": {},
   "outputs": [],
   "source": [
    "bcelldf = pd.DataFrame(bcells)"
   ]
  },
  {
   "cell_type": "code",
   "execution_count": 239,
   "metadata": {
    "scrolled": true
   },
   "outputs": [
    {
     "data": {
      "text/plain": [
       "0     0.911675\n",
       "1     0.825714\n",
       "2     0.903402\n",
       "3     0.863698\n",
       "4     0.807302\n",
       "5     0.923410\n",
       "6     0.860647\n",
       "7     0.800553\n",
       "8     0.932615\n",
       "9     0.905326\n",
       "10    0.807760\n",
       "11    0.907806\n",
       "12    0.869651\n",
       "13    0.881497\n",
       "14    0.902694\n",
       "15    0.920193\n",
       "16    0.887446\n",
       "17    0.926104\n",
       "18    0.884955\n",
       "19    0.928544\n",
       "20    0.942092\n",
       "21    0.896072\n",
       "22    0.910446\n",
       "23    0.877220\n",
       "24    0.894351\n",
       "25    0.876074\n",
       "26    0.837933\n",
       "27    0.903126\n",
       "28    0.876488\n",
       "29    0.858862\n",
       "30    0.955826\n",
       "31    0.888825\n",
       "32    0.921316\n",
       "dtype: float64"
      ]
     },
     "execution_count": 239,
     "metadata": {},
     "output_type": "execute_result"
    }
   ],
   "source": [
    "pd.DataFrame(spatial.distance.cdist(bcells, data, metric='braycurtis')).min()"
   ]
  },
  {
   "cell_type": "markdown",
   "metadata": {},
   "source": [
    "## Generate initial matches"
   ]
  },
  {
   "cell_type": "code",
   "execution_count": 510,
   "metadata": {
    "scrolled": false
   },
   "outputs": [
    {
     "name": "stderr",
     "output_type": "stream",
     "text": [
      "/opt/anaconda3/envs/qiime2-2020.6-NEW/lib/python3.6/site-packages/ipykernel_launcher.py:23: UserWarning: Boolean Series key will be reindexed to match DataFrame index.\n",
      "/opt/anaconda3/envs/qiime2-2020.6-NEW/lib/python3.6/site-packages/ipykernel_launcher.py:27: UserWarning: Boolean Series key will be reindexed to match DataFrame index.\n"
     ]
    },
    {
     "name": "stdout",
     "output_type": "stream",
     "text": [
      "CPU times: user 46.4 s, sys: 258 ms, total: 46.6 s\n",
      "Wall time: 47.2 s\n"
     ]
    }
   ],
   "source": [
    "%%time\n",
    "\n",
    "successful_attempts = []\n",
    "successful_indexes = []\n",
    "\n",
    "successful_bcells = np.empty((0,data.shape[1]))\n",
    "attempt=0\n",
    "\n",
    "density = get_density(data)\n",
    "rvs = fit_to_microbiome(data)\n",
    "\n",
    "\n",
    "while len(successful_bcells) < 20:\n",
    "    attempt +=1\n",
    "    bcells = populate_initial(n_features=data.shape[1], n_cells=100, data_rvs=rvs)\n",
    "                                        \n",
    "                                        #BCELLS MUST COME FIRST HERE - maybe make a function for this?\n",
    "    matches = sum(spatial.distance.cdist(bcells, data, metric='braycurtis').flatten() < 0.5)\n",
    "    \n",
    "    for match in range(matches):\n",
    "        successful_attempts.append(attempt)\n",
    "    \n",
    "    if matches > 0:\n",
    "        good_ones = np.where( spatial.distance.cdist(bcells, \n",
    "                                                     data[mapping[\"hcvsbc-cat\"]==\"1 - Yes\"], \n",
    "                                                     metric='braycurtis') < 0.5)[0]\n",
    "\n",
    "        self_reactive = np.where( spatial.distance.cdist(bcells[good_ones], \n",
    "                                                      data[mapping[\"hcvsbc-cat\"]==\"2 - No\"],\n",
    "                                                      metric='braycurtis') < 0.8 )[0]\n",
    "        \n",
    "        good_ones = list(set(good_ones) - (set(self_reactive)))\n",
    "        \n",
    "        successful_indexes += list(good_ones)    \n",
    "        \n",
    "        successful_bcells = np.vstack((successful_bcells, \n",
    "                                       bcells[good_ones]))\n",
    "                #using [0] in the line above grabs only the b cell's index, not the sample data\n",
    "            \n"
   ]
  },
  {
   "cell_type": "markdown",
   "metadata": {},
   "source": [
    "## Somatic Hypermutation Step"
   ]
  },
  {
   "cell_type": "code",
   "execution_count": 511,
   "metadata": {},
   "outputs": [
    {
     "name": "stderr",
     "output_type": "stream",
     "text": [
      "/opt/anaconda3/envs/qiime2-2020.6-NEW/lib/python3.6/site-packages/ipykernel_launcher.py:18: UserWarning: Boolean Series key will be reindexed to match DataFrame index.\n",
      "/opt/anaconda3/envs/qiime2-2020.6-NEW/lib/python3.6/site-packages/ipykernel_launcher.py:22: UserWarning: Boolean Series key will be reindexed to match DataFrame index.\n"
     ]
    },
    {
     "name": "stdout",
     "output_type": "stream",
     "text": [
      "CPU times: user 1.58 s, sys: 1.25 s, total: 2.83 s\n",
      "Wall time: 3.07 s\n"
     ]
    }
   ],
   "source": [
    "%%time\n",
    "\n",
    "hypermutations_per_success = 100\n",
    "\n",
    "for b_cell in successful_bcells:\n",
    "    num_successful_mutations = hypermutations_per_success #just to get things started\n",
    "    \n",
    "    while num_successful_mutations > (0.5 * hypermutations_per_success):\n",
    "        \n",
    "        #create hypermuations_per_success new bcells\n",
    "        mutated_bcells = np.empty((0,data.shape[1]))\n",
    "        \n",
    "        for i in range(hypermutations_per_success):\n",
    "            #mutate to be between 0.5 and 1.5 * the original value for each\n",
    "            mutated_bcell = bcell * ( np.random.rand(bcell.shape[0]) + 0.5 )\n",
    "            \n",
    "            mutated_bcells = np.vstack((mutated_bcells, \n",
    "                                        mutated_bcell))\n",
    "        #convert to relative abundances\n",
    "        mutated_bcells /= mutated_bcells.sum(axis=1, keepdims=True)\n",
    "            \n",
    "        #grab the ones that activate against a non-self sample    \n",
    "        good_mutations = np.where( spatial.distance.cdist(mutated_bcells, \n",
    "                                                          data[mapping[\"hcvsbc-cat\"]==\"1 - Yes\"], \n",
    "                                                          metric='braycurtis') < 0.5)[0]\n",
    "        #identify ones that are self-reactive\n",
    "        self_reactive_mutations = np.where( spatial.distance.cdist(bcells[good_mutations], \n",
    "                                                                  data[mapping[\"hcvsbc-cat\"]==\"2 - No\"],\n",
    "                                                                  metric='braycurtis') < 0.8 )[0]\n",
    "        #remove self-reactive indexes\n",
    "        successful_mutations = list(set(good_mutations) - (set(self_reactive_mutations)))\n",
    "        \n",
    "        \n",
    "        num_successful_mutations = len(successful_mutations)\n",
    "        \n",
    "        #concatenate them together\n",
    "        successful_bcells = np.vstack((successful_bcells, \n",
    "                                       mutated_bcells[successful_mutations]))\n",
    "\n"
   ]
  },
  {
   "cell_type": "code",
   "execution_count": 512,
   "metadata": {},
   "outputs": [
    {
     "data": {
      "text/plain": [
       "(4170, 661)"
      ]
     },
     "execution_count": 512,
     "metadata": {},
     "output_type": "execute_result"
    }
   ],
   "source": [
    "successful_bcells.shape"
   ]
  },
  {
   "cell_type": "code",
   "execution_count": null,
   "metadata": {},
   "outputs": [],
   "source": [
    "succ"
   ]
  },
  {
   "cell_type": "code",
   "execution_count": 513,
   "metadata": {},
   "outputs": [],
   "source": [
    "successful_bcells_df = pd.DataFrame(successful_bcells, \n",
    "                                    columns=data.columns,\n",
    "                                    index = [( \"BC-\" + str(x) ) for x in range(successful_bcells.shape[0])])\n",
    "\n",
    "data_bcells_df = pd.concat([successful_bcells_df, data])\n",
    "ord_distmat = spatial.distance.squareform(spatial.distance.pdist(data_bcells_df,\n",
    "                                                                metric='braycurtis'))\n",
    "\n"
   ]
  },
  {
   "cell_type": "code",
   "execution_count": 530,
   "metadata": {},
   "outputs": [
    {
     "data": {
      "text/html": [
       "<div>\n",
       "<style scoped>\n",
       "    .dataframe tbody tr th:only-of-type {\n",
       "        vertical-align: middle;\n",
       "    }\n",
       "\n",
       "    .dataframe tbody tr th {\n",
       "        vertical-align: top;\n",
       "    }\n",
       "\n",
       "    .dataframe thead th {\n",
       "        text-align: right;\n",
       "    }\n",
       "</style>\n",
       "<table border=\"1\" class=\"dataframe\">\n",
       "  <thead>\n",
       "    <tr style=\"text-align: right;\">\n",
       "      <th></th>\n",
       "      <th>d__Archaea;p__Euryarchaeota;c__Methanobacteria;o__Methanobacteriales;f__Methanobacteriaceae;g__Methanobacterium;__</th>\n",
       "      <th>d__Archaea;p__Euryarchaeota;c__Methanobacteria;o__Methanobacteriales;f__Methanobacteriaceae;g__Methanobrevibacter;s__Methanobrevibacter_smithii</th>\n",
       "      <th>d__Archaea;p__Thermoplasmatota;c__Thermoplasmata;o__Methanomassiliicoccales;f__Methanomethylophilaceae;__;__</th>\n",
       "      <th>d__Bacteria;__;__;__;__;__;__</th>\n",
       "      <th>d__Bacteria;p__Actinobacteriota;c__Actinobacteria;o__Actinomycetales;f__Actinomycetaceae;g__Actinomyces;__</th>\n",
       "      <th>d__Bacteria;p__Actinobacteriota;c__Actinobacteria;o__Actinomycetales;f__Actinomycetaceae;g__Actinomyces;s__Actinomyces_graevenitzii</th>\n",
       "      <th>d__Bacteria;p__Actinobacteriota;c__Actinobacteria;o__Actinomycetales;f__Actinomycetaceae;g__Actinomyces;s__Schaalia_odontolytica</th>\n",
       "      <th>d__Bacteria;p__Actinobacteriota;c__Actinobacteria;o__Actinomycetales;f__Actinomycetaceae;g__Actinomyces;s__Schaalia_radingae</th>\n",
       "      <th>d__Bacteria;p__Actinobacteriota;c__Actinobacteria;o__Actinomycetales;f__Actinomycetaceae;g__Actinomyces;s__Winkia_neuii</th>\n",
       "      <th>d__Bacteria;p__Actinobacteriota;c__Actinobacteria;o__Actinomycetales;f__Actinomycetaceae;g__Arcanobacterium;s__Arcanobacterium_sp.</th>\n",
       "      <th>...</th>\n",
       "      <th>d__Bacteria;p__Verrucomicrobiota;c__Lentisphaeria;o__Victivallales;f__Victivallaceae;g__Victivallis;__</th>\n",
       "      <th>d__Bacteria;p__Verrucomicrobiota;c__Lentisphaeria;o__Victivallales;f__Victivallaceae;g__Victivallis;s__Victivallis_vadensis</th>\n",
       "      <th>d__Bacteria;p__Verrucomicrobiota;c__Lentisphaeria;o__Victivallales;f__vadinBE97;g__vadinBE97;s__uncultured_rumen</th>\n",
       "      <th>d__Bacteria;p__Verrucomicrobiota;c__Verrucomicrobiae;o__Opitutales;f__Puniceicoccaceae;g__uncultured;s__uncultured_bacterium</th>\n",
       "      <th>d__Bacteria;p__Verrucomicrobiota;c__Verrucomicrobiae;o__Verrucomicrobiales;f__Akkermansiaceae;g__Akkermansia;__</th>\n",
       "      <th>d__Bacteria;p__Verrucomicrobiota;c__Verrucomicrobiae;o__Verrucomicrobiales;f__Akkermansiaceae;g__Akkermansia;s__Akkermansia_muciniphila</th>\n",
       "      <th>d__Bacteria;p__Verrucomicrobiota;c__Verrucomicrobiae;o__Verrucomicrobiales;f__Akkermansiaceae;g__Akkermansia;s__Akkermansia_sp.</th>\n",
       "      <th>d__Bacteria;p__Verrucomicrobiota;c__Verrucomicrobiae;o__Verrucomicrobiales;f__Akkermansiaceae;g__Akkermansia;s__uncultured_organism</th>\n",
       "      <th>d__Eukaryota;p__Basidiomycota;c__Microbotryomycetes;o__Sporidiobolales;f__Sporidiobolaceae;g__Rhodotorula;s__Rhodotorula_mucilaginosa</th>\n",
       "      <th>hcvsbc-cat</th>\n",
       "    </tr>\n",
       "  </thead>\n",
       "  <tbody>\n",
       "    <tr>\n",
       "      <th>BC-0</th>\n",
       "      <td>0.0</td>\n",
       "      <td>0.000000</td>\n",
       "      <td>0.003315</td>\n",
       "      <td>0.000000</td>\n",
       "      <td>0.000000</td>\n",
       "      <td>0.0</td>\n",
       "      <td>0.000000</td>\n",
       "      <td>0.000000</td>\n",
       "      <td>0.000000</td>\n",
       "      <td>0.0</td>\n",
       "      <td>...</td>\n",
       "      <td>0.000000</td>\n",
       "      <td>0.000000</td>\n",
       "      <td>0.0</td>\n",
       "      <td>0.0</td>\n",
       "      <td>0.0</td>\n",
       "      <td>0.000000</td>\n",
       "      <td>0.000000</td>\n",
       "      <td>0.000000</td>\n",
       "      <td>0.000000</td>\n",
       "      <td>1 - Yes</td>\n",
       "    </tr>\n",
       "    <tr>\n",
       "      <th>BC-1</th>\n",
       "      <td>0.0</td>\n",
       "      <td>0.003492</td>\n",
       "      <td>0.000000</td>\n",
       "      <td>0.000467</td>\n",
       "      <td>0.011749</td>\n",
       "      <td>0.0</td>\n",
       "      <td>0.000689</td>\n",
       "      <td>0.000000</td>\n",
       "      <td>0.000000</td>\n",
       "      <td>0.0</td>\n",
       "      <td>...</td>\n",
       "      <td>0.008336</td>\n",
       "      <td>0.000000</td>\n",
       "      <td>0.0</td>\n",
       "      <td>0.0</td>\n",
       "      <td>0.0</td>\n",
       "      <td>0.000000</td>\n",
       "      <td>0.002135</td>\n",
       "      <td>0.000000</td>\n",
       "      <td>0.000200</td>\n",
       "      <td>1 - Yes</td>\n",
       "    </tr>\n",
       "    <tr>\n",
       "      <th>BC-2</th>\n",
       "      <td>0.0</td>\n",
       "      <td>0.000000</td>\n",
       "      <td>0.002184</td>\n",
       "      <td>0.000000</td>\n",
       "      <td>0.000000</td>\n",
       "      <td>0.0</td>\n",
       "      <td>0.000000</td>\n",
       "      <td>0.000000</td>\n",
       "      <td>0.000000</td>\n",
       "      <td>0.0</td>\n",
       "      <td>...</td>\n",
       "      <td>0.000000</td>\n",
       "      <td>0.000000</td>\n",
       "      <td>0.0</td>\n",
       "      <td>0.0</td>\n",
       "      <td>0.0</td>\n",
       "      <td>0.000000</td>\n",
       "      <td>0.000000</td>\n",
       "      <td>0.000000</td>\n",
       "      <td>0.000000</td>\n",
       "      <td>1 - Yes</td>\n",
       "    </tr>\n",
       "    <tr>\n",
       "      <th>BC-3</th>\n",
       "      <td>0.0</td>\n",
       "      <td>0.000000</td>\n",
       "      <td>0.000000</td>\n",
       "      <td>0.000000</td>\n",
       "      <td>0.000000</td>\n",
       "      <td>0.0</td>\n",
       "      <td>0.000000</td>\n",
       "      <td>0.000000</td>\n",
       "      <td>0.000346</td>\n",
       "      <td>0.0</td>\n",
       "      <td>...</td>\n",
       "      <td>0.000000</td>\n",
       "      <td>0.000517</td>\n",
       "      <td>0.0</td>\n",
       "      <td>0.0</td>\n",
       "      <td>0.0</td>\n",
       "      <td>0.004779</td>\n",
       "      <td>0.000000</td>\n",
       "      <td>0.000000</td>\n",
       "      <td>0.000000</td>\n",
       "      <td>1 - Yes</td>\n",
       "    </tr>\n",
       "    <tr>\n",
       "      <th>BC-4</th>\n",
       "      <td>0.0</td>\n",
       "      <td>0.000000</td>\n",
       "      <td>0.000000</td>\n",
       "      <td>0.000000</td>\n",
       "      <td>0.000664</td>\n",
       "      <td>0.0</td>\n",
       "      <td>0.000000</td>\n",
       "      <td>0.008633</td>\n",
       "      <td>0.000000</td>\n",
       "      <td>0.0</td>\n",
       "      <td>...</td>\n",
       "      <td>0.000000</td>\n",
       "      <td>0.001995</td>\n",
       "      <td>0.0</td>\n",
       "      <td>0.0</td>\n",
       "      <td>0.0</td>\n",
       "      <td>0.000000</td>\n",
       "      <td>0.000000</td>\n",
       "      <td>0.001343</td>\n",
       "      <td>0.020364</td>\n",
       "      <td>1 - Yes</td>\n",
       "    </tr>\n",
       "    <tr>\n",
       "      <th>...</th>\n",
       "      <td>...</td>\n",
       "      <td>...</td>\n",
       "      <td>...</td>\n",
       "      <td>...</td>\n",
       "      <td>...</td>\n",
       "      <td>...</td>\n",
       "      <td>...</td>\n",
       "      <td>...</td>\n",
       "      <td>...</td>\n",
       "      <td>...</td>\n",
       "      <td>...</td>\n",
       "      <td>...</td>\n",
       "      <td>...</td>\n",
       "      <td>...</td>\n",
       "      <td>...</td>\n",
       "      <td>...</td>\n",
       "      <td>...</td>\n",
       "      <td>...</td>\n",
       "      <td>...</td>\n",
       "      <td>...</td>\n",
       "      <td>...</td>\n",
       "    </tr>\n",
       "    <tr>\n",
       "      <th>BC-4165</th>\n",
       "      <td>0.0</td>\n",
       "      <td>0.000000</td>\n",
       "      <td>0.005417</td>\n",
       "      <td>0.000000</td>\n",
       "      <td>0.000000</td>\n",
       "      <td>0.0</td>\n",
       "      <td>0.000000</td>\n",
       "      <td>0.000000</td>\n",
       "      <td>0.000000</td>\n",
       "      <td>0.0</td>\n",
       "      <td>...</td>\n",
       "      <td>0.000000</td>\n",
       "      <td>0.000000</td>\n",
       "      <td>0.0</td>\n",
       "      <td>0.0</td>\n",
       "      <td>0.0</td>\n",
       "      <td>0.000000</td>\n",
       "      <td>0.000000</td>\n",
       "      <td>0.000000</td>\n",
       "      <td>0.000000</td>\n",
       "      <td>1 - Yes</td>\n",
       "    </tr>\n",
       "    <tr>\n",
       "      <th>BC-4166</th>\n",
       "      <td>0.0</td>\n",
       "      <td>0.000000</td>\n",
       "      <td>0.004277</td>\n",
       "      <td>0.000000</td>\n",
       "      <td>0.000000</td>\n",
       "      <td>0.0</td>\n",
       "      <td>0.000000</td>\n",
       "      <td>0.000000</td>\n",
       "      <td>0.000000</td>\n",
       "      <td>0.0</td>\n",
       "      <td>...</td>\n",
       "      <td>0.000000</td>\n",
       "      <td>0.000000</td>\n",
       "      <td>0.0</td>\n",
       "      <td>0.0</td>\n",
       "      <td>0.0</td>\n",
       "      <td>0.000000</td>\n",
       "      <td>0.000000</td>\n",
       "      <td>0.000000</td>\n",
       "      <td>0.000000</td>\n",
       "      <td>1 - Yes</td>\n",
       "    </tr>\n",
       "    <tr>\n",
       "      <th>BC-4167</th>\n",
       "      <td>0.0</td>\n",
       "      <td>0.000000</td>\n",
       "      <td>0.005616</td>\n",
       "      <td>0.000000</td>\n",
       "      <td>0.000000</td>\n",
       "      <td>0.0</td>\n",
       "      <td>0.000000</td>\n",
       "      <td>0.000000</td>\n",
       "      <td>0.000000</td>\n",
       "      <td>0.0</td>\n",
       "      <td>...</td>\n",
       "      <td>0.000000</td>\n",
       "      <td>0.000000</td>\n",
       "      <td>0.0</td>\n",
       "      <td>0.0</td>\n",
       "      <td>0.0</td>\n",
       "      <td>0.000000</td>\n",
       "      <td>0.000000</td>\n",
       "      <td>0.000000</td>\n",
       "      <td>0.000000</td>\n",
       "      <td>1 - Yes</td>\n",
       "    </tr>\n",
       "    <tr>\n",
       "      <th>BC-4168</th>\n",
       "      <td>0.0</td>\n",
       "      <td>0.000000</td>\n",
       "      <td>0.004704</td>\n",
       "      <td>0.000000</td>\n",
       "      <td>0.000000</td>\n",
       "      <td>0.0</td>\n",
       "      <td>0.000000</td>\n",
       "      <td>0.000000</td>\n",
       "      <td>0.000000</td>\n",
       "      <td>0.0</td>\n",
       "      <td>...</td>\n",
       "      <td>0.000000</td>\n",
       "      <td>0.000000</td>\n",
       "      <td>0.0</td>\n",
       "      <td>0.0</td>\n",
       "      <td>0.0</td>\n",
       "      <td>0.000000</td>\n",
       "      <td>0.000000</td>\n",
       "      <td>0.000000</td>\n",
       "      <td>0.000000</td>\n",
       "      <td>1 - Yes</td>\n",
       "    </tr>\n",
       "    <tr>\n",
       "      <th>BC-4169</th>\n",
       "      <td>0.0</td>\n",
       "      <td>0.000000</td>\n",
       "      <td>0.005427</td>\n",
       "      <td>0.000000</td>\n",
       "      <td>0.000000</td>\n",
       "      <td>0.0</td>\n",
       "      <td>0.000000</td>\n",
       "      <td>0.000000</td>\n",
       "      <td>0.000000</td>\n",
       "      <td>0.0</td>\n",
       "      <td>...</td>\n",
       "      <td>0.000000</td>\n",
       "      <td>0.000000</td>\n",
       "      <td>0.0</td>\n",
       "      <td>0.0</td>\n",
       "      <td>0.0</td>\n",
       "      <td>0.000000</td>\n",
       "      <td>0.000000</td>\n",
       "      <td>0.000000</td>\n",
       "      <td>0.000000</td>\n",
       "      <td>1 - Yes</td>\n",
       "    </tr>\n",
       "  </tbody>\n",
       "</table>\n",
       "<p>4170 rows × 662 columns</p>\n",
       "</div>"
      ],
      "text/plain": [
       "         d__Archaea;p__Euryarchaeota;c__Methanobacteria;o__Methanobacteriales;f__Methanobacteriaceae;g__Methanobacterium;__  \\\n",
       "BC-0                                                   0.0                                                                    \n",
       "BC-1                                                   0.0                                                                    \n",
       "BC-2                                                   0.0                                                                    \n",
       "BC-3                                                   0.0                                                                    \n",
       "BC-4                                                   0.0                                                                    \n",
       "...                                                    ...                                                                    \n",
       "BC-4165                                                0.0                                                                    \n",
       "BC-4166                                                0.0                                                                    \n",
       "BC-4167                                                0.0                                                                    \n",
       "BC-4168                                                0.0                                                                    \n",
       "BC-4169                                                0.0                                                                    \n",
       "\n",
       "         d__Archaea;p__Euryarchaeota;c__Methanobacteria;o__Methanobacteriales;f__Methanobacteriaceae;g__Methanobrevibacter;s__Methanobrevibacter_smithii  \\\n",
       "BC-0                                              0.000000                                                                                                 \n",
       "BC-1                                              0.003492                                                                                                 \n",
       "BC-2                                              0.000000                                                                                                 \n",
       "BC-3                                              0.000000                                                                                                 \n",
       "BC-4                                              0.000000                                                                                                 \n",
       "...                                                    ...                                                                                                 \n",
       "BC-4165                                           0.000000                                                                                                 \n",
       "BC-4166                                           0.000000                                                                                                 \n",
       "BC-4167                                           0.000000                                                                                                 \n",
       "BC-4168                                           0.000000                                                                                                 \n",
       "BC-4169                                           0.000000                                                                                                 \n",
       "\n",
       "         d__Archaea;p__Thermoplasmatota;c__Thermoplasmata;o__Methanomassiliicoccales;f__Methanomethylophilaceae;__;__  \\\n",
       "BC-0                                              0.003315                                                              \n",
       "BC-1                                              0.000000                                                              \n",
       "BC-2                                              0.002184                                                              \n",
       "BC-3                                              0.000000                                                              \n",
       "BC-4                                              0.000000                                                              \n",
       "...                                                    ...                                                              \n",
       "BC-4165                                           0.005417                                                              \n",
       "BC-4166                                           0.004277                                                              \n",
       "BC-4167                                           0.005616                                                              \n",
       "BC-4168                                           0.004704                                                              \n",
       "BC-4169                                           0.005427                                                              \n",
       "\n",
       "         d__Bacteria;__;__;__;__;__;__  \\\n",
       "BC-0                          0.000000   \n",
       "BC-1                          0.000467   \n",
       "BC-2                          0.000000   \n",
       "BC-3                          0.000000   \n",
       "BC-4                          0.000000   \n",
       "...                                ...   \n",
       "BC-4165                       0.000000   \n",
       "BC-4166                       0.000000   \n",
       "BC-4167                       0.000000   \n",
       "BC-4168                       0.000000   \n",
       "BC-4169                       0.000000   \n",
       "\n",
       "         d__Bacteria;p__Actinobacteriota;c__Actinobacteria;o__Actinomycetales;f__Actinomycetaceae;g__Actinomyces;__  \\\n",
       "BC-0                                              0.000000                                                            \n",
       "BC-1                                              0.011749                                                            \n",
       "BC-2                                              0.000000                                                            \n",
       "BC-3                                              0.000000                                                            \n",
       "BC-4                                              0.000664                                                            \n",
       "...                                                    ...                                                            \n",
       "BC-4165                                           0.000000                                                            \n",
       "BC-4166                                           0.000000                                                            \n",
       "BC-4167                                           0.000000                                                            \n",
       "BC-4168                                           0.000000                                                            \n",
       "BC-4169                                           0.000000                                                            \n",
       "\n",
       "         d__Bacteria;p__Actinobacteriota;c__Actinobacteria;o__Actinomycetales;f__Actinomycetaceae;g__Actinomyces;s__Actinomyces_graevenitzii  \\\n",
       "BC-0                                                   0.0                                                                                     \n",
       "BC-1                                                   0.0                                                                                     \n",
       "BC-2                                                   0.0                                                                                     \n",
       "BC-3                                                   0.0                                                                                     \n",
       "BC-4                                                   0.0                                                                                     \n",
       "...                                                    ...                                                                                     \n",
       "BC-4165                                                0.0                                                                                     \n",
       "BC-4166                                                0.0                                                                                     \n",
       "BC-4167                                                0.0                                                                                     \n",
       "BC-4168                                                0.0                                                                                     \n",
       "BC-4169                                                0.0                                                                                     \n",
       "\n",
       "         d__Bacteria;p__Actinobacteriota;c__Actinobacteria;o__Actinomycetales;f__Actinomycetaceae;g__Actinomyces;s__Schaalia_odontolytica  \\\n",
       "BC-0                                              0.000000                                                                                  \n",
       "BC-1                                              0.000689                                                                                  \n",
       "BC-2                                              0.000000                                                                                  \n",
       "BC-3                                              0.000000                                                                                  \n",
       "BC-4                                              0.000000                                                                                  \n",
       "...                                                    ...                                                                                  \n",
       "BC-4165                                           0.000000                                                                                  \n",
       "BC-4166                                           0.000000                                                                                  \n",
       "BC-4167                                           0.000000                                                                                  \n",
       "BC-4168                                           0.000000                                                                                  \n",
       "BC-4169                                           0.000000                                                                                  \n",
       "\n",
       "         d__Bacteria;p__Actinobacteriota;c__Actinobacteria;o__Actinomycetales;f__Actinomycetaceae;g__Actinomyces;s__Schaalia_radingae  \\\n",
       "BC-0                                              0.000000                                                                              \n",
       "BC-1                                              0.000000                                                                              \n",
       "BC-2                                              0.000000                                                                              \n",
       "BC-3                                              0.000000                                                                              \n",
       "BC-4                                              0.008633                                                                              \n",
       "...                                                    ...                                                                              \n",
       "BC-4165                                           0.000000                                                                              \n",
       "BC-4166                                           0.000000                                                                              \n",
       "BC-4167                                           0.000000                                                                              \n",
       "BC-4168                                           0.000000                                                                              \n",
       "BC-4169                                           0.000000                                                                              \n",
       "\n",
       "         d__Bacteria;p__Actinobacteriota;c__Actinobacteria;o__Actinomycetales;f__Actinomycetaceae;g__Actinomyces;s__Winkia_neuii  \\\n",
       "BC-0                                              0.000000                                                                         \n",
       "BC-1                                              0.000000                                                                         \n",
       "BC-2                                              0.000000                                                                         \n",
       "BC-3                                              0.000346                                                                         \n",
       "BC-4                                              0.000000                                                                         \n",
       "...                                                    ...                                                                         \n",
       "BC-4165                                           0.000000                                                                         \n",
       "BC-4166                                           0.000000                                                                         \n",
       "BC-4167                                           0.000000                                                                         \n",
       "BC-4168                                           0.000000                                                                         \n",
       "BC-4169                                           0.000000                                                                         \n",
       "\n",
       "         d__Bacteria;p__Actinobacteriota;c__Actinobacteria;o__Actinomycetales;f__Actinomycetaceae;g__Arcanobacterium;s__Arcanobacterium_sp.  \\\n",
       "BC-0                                                   0.0                                                                                    \n",
       "BC-1                                                   0.0                                                                                    \n",
       "BC-2                                                   0.0                                                                                    \n",
       "BC-3                                                   0.0                                                                                    \n",
       "BC-4                                                   0.0                                                                                    \n",
       "...                                                    ...                                                                                    \n",
       "BC-4165                                                0.0                                                                                    \n",
       "BC-4166                                                0.0                                                                                    \n",
       "BC-4167                                                0.0                                                                                    \n",
       "BC-4168                                                0.0                                                                                    \n",
       "BC-4169                                                0.0                                                                                    \n",
       "\n",
       "         ...  \\\n",
       "BC-0     ...   \n",
       "BC-1     ...   \n",
       "BC-2     ...   \n",
       "BC-3     ...   \n",
       "BC-4     ...   \n",
       "...      ...   \n",
       "BC-4165  ...   \n",
       "BC-4166  ...   \n",
       "BC-4167  ...   \n",
       "BC-4168  ...   \n",
       "BC-4169  ...   \n",
       "\n",
       "         d__Bacteria;p__Verrucomicrobiota;c__Lentisphaeria;o__Victivallales;f__Victivallaceae;g__Victivallis;__  \\\n",
       "BC-0                                              0.000000                                                        \n",
       "BC-1                                              0.008336                                                        \n",
       "BC-2                                              0.000000                                                        \n",
       "BC-3                                              0.000000                                                        \n",
       "BC-4                                              0.000000                                                        \n",
       "...                                                    ...                                                        \n",
       "BC-4165                                           0.000000                                                        \n",
       "BC-4166                                           0.000000                                                        \n",
       "BC-4167                                           0.000000                                                        \n",
       "BC-4168                                           0.000000                                                        \n",
       "BC-4169                                           0.000000                                                        \n",
       "\n",
       "         d__Bacteria;p__Verrucomicrobiota;c__Lentisphaeria;o__Victivallales;f__Victivallaceae;g__Victivallis;s__Victivallis_vadensis  \\\n",
       "BC-0                                              0.000000                                                                             \n",
       "BC-1                                              0.000000                                                                             \n",
       "BC-2                                              0.000000                                                                             \n",
       "BC-3                                              0.000517                                                                             \n",
       "BC-4                                              0.001995                                                                             \n",
       "...                                                    ...                                                                             \n",
       "BC-4165                                           0.000000                                                                             \n",
       "BC-4166                                           0.000000                                                                             \n",
       "BC-4167                                           0.000000                                                                             \n",
       "BC-4168                                           0.000000                                                                             \n",
       "BC-4169                                           0.000000                                                                             \n",
       "\n",
       "         d__Bacteria;p__Verrucomicrobiota;c__Lentisphaeria;o__Victivallales;f__vadinBE97;g__vadinBE97;s__uncultured_rumen  \\\n",
       "BC-0                                                   0.0                                                                  \n",
       "BC-1                                                   0.0                                                                  \n",
       "BC-2                                                   0.0                                                                  \n",
       "BC-3                                                   0.0                                                                  \n",
       "BC-4                                                   0.0                                                                  \n",
       "...                                                    ...                                                                  \n",
       "BC-4165                                                0.0                                                                  \n",
       "BC-4166                                                0.0                                                                  \n",
       "BC-4167                                                0.0                                                                  \n",
       "BC-4168                                                0.0                                                                  \n",
       "BC-4169                                                0.0                                                                  \n",
       "\n",
       "         d__Bacteria;p__Verrucomicrobiota;c__Verrucomicrobiae;o__Opitutales;f__Puniceicoccaceae;g__uncultured;s__uncultured_bacterium  \\\n",
       "BC-0                                                   0.0                                                                              \n",
       "BC-1                                                   0.0                                                                              \n",
       "BC-2                                                   0.0                                                                              \n",
       "BC-3                                                   0.0                                                                              \n",
       "BC-4                                                   0.0                                                                              \n",
       "...                                                    ...                                                                              \n",
       "BC-4165                                                0.0                                                                              \n",
       "BC-4166                                                0.0                                                                              \n",
       "BC-4167                                                0.0                                                                              \n",
       "BC-4168                                                0.0                                                                              \n",
       "BC-4169                                                0.0                                                                              \n",
       "\n",
       "         d__Bacteria;p__Verrucomicrobiota;c__Verrucomicrobiae;o__Verrucomicrobiales;f__Akkermansiaceae;g__Akkermansia;__  \\\n",
       "BC-0                                                   0.0                                                                 \n",
       "BC-1                                                   0.0                                                                 \n",
       "BC-2                                                   0.0                                                                 \n",
       "BC-3                                                   0.0                                                                 \n",
       "BC-4                                                   0.0                                                                 \n",
       "...                                                    ...                                                                 \n",
       "BC-4165                                                0.0                                                                 \n",
       "BC-4166                                                0.0                                                                 \n",
       "BC-4167                                                0.0                                                                 \n",
       "BC-4168                                                0.0                                                                 \n",
       "BC-4169                                                0.0                                                                 \n",
       "\n",
       "         d__Bacteria;p__Verrucomicrobiota;c__Verrucomicrobiae;o__Verrucomicrobiales;f__Akkermansiaceae;g__Akkermansia;s__Akkermansia_muciniphila  \\\n",
       "BC-0                                              0.000000                                                                                         \n",
       "BC-1                                              0.000000                                                                                         \n",
       "BC-2                                              0.000000                                                                                         \n",
       "BC-3                                              0.004779                                                                                         \n",
       "BC-4                                              0.000000                                                                                         \n",
       "...                                                    ...                                                                                         \n",
       "BC-4165                                           0.000000                                                                                         \n",
       "BC-4166                                           0.000000                                                                                         \n",
       "BC-4167                                           0.000000                                                                                         \n",
       "BC-4168                                           0.000000                                                                                         \n",
       "BC-4169                                           0.000000                                                                                         \n",
       "\n",
       "         d__Bacteria;p__Verrucomicrobiota;c__Verrucomicrobiae;o__Verrucomicrobiales;f__Akkermansiaceae;g__Akkermansia;s__Akkermansia_sp.  \\\n",
       "BC-0                                              0.000000                                                                                 \n",
       "BC-1                                              0.002135                                                                                 \n",
       "BC-2                                              0.000000                                                                                 \n",
       "BC-3                                              0.000000                                                                                 \n",
       "BC-4                                              0.000000                                                                                 \n",
       "...                                                    ...                                                                                 \n",
       "BC-4165                                           0.000000                                                                                 \n",
       "BC-4166                                           0.000000                                                                                 \n",
       "BC-4167                                           0.000000                                                                                 \n",
       "BC-4168                                           0.000000                                                                                 \n",
       "BC-4169                                           0.000000                                                                                 \n",
       "\n",
       "         d__Bacteria;p__Verrucomicrobiota;c__Verrucomicrobiae;o__Verrucomicrobiales;f__Akkermansiaceae;g__Akkermansia;s__uncultured_organism  \\\n",
       "BC-0                                              0.000000                                                                                     \n",
       "BC-1                                              0.000000                                                                                     \n",
       "BC-2                                              0.000000                                                                                     \n",
       "BC-3                                              0.000000                                                                                     \n",
       "BC-4                                              0.001343                                                                                     \n",
       "...                                                    ...                                                                                     \n",
       "BC-4165                                           0.000000                                                                                     \n",
       "BC-4166                                           0.000000                                                                                     \n",
       "BC-4167                                           0.000000                                                                                     \n",
       "BC-4168                                           0.000000                                                                                     \n",
       "BC-4169                                           0.000000                                                                                     \n",
       "\n",
       "         d__Eukaryota;p__Basidiomycota;c__Microbotryomycetes;o__Sporidiobolales;f__Sporidiobolaceae;g__Rhodotorula;s__Rhodotorula_mucilaginosa  \\\n",
       "BC-0                                              0.000000                                                                                       \n",
       "BC-1                                              0.000200                                                                                       \n",
       "BC-2                                              0.000000                                                                                       \n",
       "BC-3                                              0.000000                                                                                       \n",
       "BC-4                                              0.020364                                                                                       \n",
       "...                                                    ...                                                                                       \n",
       "BC-4165                                           0.000000                                                                                       \n",
       "BC-4166                                           0.000000                                                                                       \n",
       "BC-4167                                           0.000000                                                                                       \n",
       "BC-4168                                           0.000000                                                                                       \n",
       "BC-4169                                           0.000000                                                                                       \n",
       "\n",
       "         hcvsbc-cat  \n",
       "BC-0        1 - Yes  \n",
       "BC-1        1 - Yes  \n",
       "BC-2        1 - Yes  \n",
       "BC-3        1 - Yes  \n",
       "BC-4        1 - Yes  \n",
       "...             ...  \n",
       "BC-4165     1 - Yes  \n",
       "BC-4166     1 - Yes  \n",
       "BC-4167     1 - Yes  \n",
       "BC-4168     1 - Yes  \n",
       "BC-4169     1 - Yes  \n",
       "\n",
       "[4170 rows x 662 columns]"
      ]
     },
     "execution_count": 530,
     "metadata": {},
     "output_type": "execute_result"
    }
   ],
   "source": [
    "successful_bcells_df"
   ]
  },
  {
   "cell_type": "code",
   "execution_count": 514,
   "metadata": {},
   "outputs": [],
   "source": [
    "successful_bcells_df[\"hcvsbc-cat\"] = \"1 - Yes\"\n",
    "data[\"hcvsbc-cat\"] = mapping[\"hcvsbc-cat\"]\n",
    "\n",
    "data_bcells_df2 = pd.concat([successful_bcells_df, data])"
   ]
  },
  {
   "cell_type": "code",
   "execution_count": 440,
   "metadata": {},
   "outputs": [],
   "source": [
    "from sklearn.manifold import MDS"
   ]
  },
  {
   "cell_type": "code",
   "execution_count": 515,
   "metadata": {
    "collapsed": true
   },
   "outputs": [
    {
     "ename": "KeyboardInterrupt",
     "evalue": "",
     "output_type": "error",
     "traceback": [
      "\u001b[0;31m---------------------------------------------------------------------------\u001b[0m",
      "\u001b[0;31mKeyboardInterrupt\u001b[0m                         Traceback (most recent call last)",
      "\u001b[0;32m<ipython-input-515-95e5b78a2fab>\u001b[0m in \u001b[0;36m<module>\u001b[0;34m\u001b[0m\n\u001b[1;32m      1\u001b[0m \u001b[0mordination\u001b[0m \u001b[0;34m=\u001b[0m \u001b[0mMDS\u001b[0m\u001b[0;34m(\u001b[0m\u001b[0mdissimilarity\u001b[0m\u001b[0;34m=\u001b[0m\u001b[0;34m\"precomputed\"\u001b[0m\u001b[0;34m)\u001b[0m\u001b[0;34m\u001b[0m\u001b[0;34m\u001b[0m\u001b[0m\n\u001b[1;32m      2\u001b[0m \u001b[0;34m\u001b[0m\u001b[0m\n\u001b[0;32m----> 3\u001b[0;31m \u001b[0mcoords\u001b[0m \u001b[0;34m=\u001b[0m \u001b[0mordination\u001b[0m\u001b[0;34m.\u001b[0m\u001b[0mfit_transform\u001b[0m\u001b[0;34m(\u001b[0m\u001b[0mord_distmat\u001b[0m\u001b[0;34m)\u001b[0m\u001b[0;34m\u001b[0m\u001b[0;34m\u001b[0m\u001b[0m\n\u001b[0m",
      "\u001b[0;32m/opt/anaconda3/envs/qiime2-2020.6-NEW/lib/python3.6/site-packages/sklearn/manifold/_mds.py\u001b[0m in \u001b[0;36mfit_transform\u001b[0;34m(self, X, y, init)\u001b[0m\n\u001b[1;32m    435\u001b[0m             \u001b[0mn_jobs\u001b[0m\u001b[0;34m=\u001b[0m\u001b[0mself\u001b[0m\u001b[0;34m.\u001b[0m\u001b[0mn_jobs\u001b[0m\u001b[0;34m,\u001b[0m \u001b[0mmax_iter\u001b[0m\u001b[0;34m=\u001b[0m\u001b[0mself\u001b[0m\u001b[0;34m.\u001b[0m\u001b[0mmax_iter\u001b[0m\u001b[0;34m,\u001b[0m \u001b[0mverbose\u001b[0m\u001b[0;34m=\u001b[0m\u001b[0mself\u001b[0m\u001b[0;34m.\u001b[0m\u001b[0mverbose\u001b[0m\u001b[0;34m,\u001b[0m\u001b[0;34m\u001b[0m\u001b[0;34m\u001b[0m\u001b[0m\n\u001b[1;32m    436\u001b[0m             \u001b[0meps\u001b[0m\u001b[0;34m=\u001b[0m\u001b[0mself\u001b[0m\u001b[0;34m.\u001b[0m\u001b[0meps\u001b[0m\u001b[0;34m,\u001b[0m \u001b[0mrandom_state\u001b[0m\u001b[0;34m=\u001b[0m\u001b[0mself\u001b[0m\u001b[0;34m.\u001b[0m\u001b[0mrandom_state\u001b[0m\u001b[0;34m,\u001b[0m\u001b[0;34m\u001b[0m\u001b[0;34m\u001b[0m\u001b[0m\n\u001b[0;32m--> 437\u001b[0;31m             return_n_iter=True)\n\u001b[0m\u001b[1;32m    438\u001b[0m \u001b[0;34m\u001b[0m\u001b[0m\n\u001b[1;32m    439\u001b[0m         \u001b[0;32mreturn\u001b[0m \u001b[0mself\u001b[0m\u001b[0;34m.\u001b[0m\u001b[0membedding_\u001b[0m\u001b[0;34m\u001b[0m\u001b[0;34m\u001b[0m\u001b[0m\n",
      "\u001b[0;32m/opt/anaconda3/envs/qiime2-2020.6-NEW/lib/python3.6/site-packages/sklearn/utils/validation.py\u001b[0m in \u001b[0;36minner_f\u001b[0;34m(*args, **kwargs)\u001b[0m\n\u001b[1;32m     71\u001b[0m                           FutureWarning)\n\u001b[1;32m     72\u001b[0m         \u001b[0mkwargs\u001b[0m\u001b[0;34m.\u001b[0m\u001b[0mupdate\u001b[0m\u001b[0;34m(\u001b[0m\u001b[0;34m{\u001b[0m\u001b[0mk\u001b[0m\u001b[0;34m:\u001b[0m \u001b[0marg\u001b[0m \u001b[0;32mfor\u001b[0m \u001b[0mk\u001b[0m\u001b[0;34m,\u001b[0m \u001b[0marg\u001b[0m \u001b[0;32min\u001b[0m \u001b[0mzip\u001b[0m\u001b[0;34m(\u001b[0m\u001b[0msig\u001b[0m\u001b[0;34m.\u001b[0m\u001b[0mparameters\u001b[0m\u001b[0;34m,\u001b[0m \u001b[0margs\u001b[0m\u001b[0;34m)\u001b[0m\u001b[0;34m}\u001b[0m\u001b[0;34m)\u001b[0m\u001b[0;34m\u001b[0m\u001b[0;34m\u001b[0m\u001b[0m\n\u001b[0;32m---> 73\u001b[0;31m         \u001b[0;32mreturn\u001b[0m \u001b[0mf\u001b[0m\u001b[0;34m(\u001b[0m\u001b[0;34m**\u001b[0m\u001b[0mkwargs\u001b[0m\u001b[0;34m)\u001b[0m\u001b[0;34m\u001b[0m\u001b[0;34m\u001b[0m\u001b[0m\n\u001b[0m\u001b[1;32m     74\u001b[0m     \u001b[0;32mreturn\u001b[0m \u001b[0minner_f\u001b[0m\u001b[0;34m\u001b[0m\u001b[0;34m\u001b[0m\u001b[0m\n\u001b[1;32m     75\u001b[0m \u001b[0;34m\u001b[0m\u001b[0m\n",
      "\u001b[0;32m/opt/anaconda3/envs/qiime2-2020.6-NEW/lib/python3.6/site-packages/sklearn/manifold/_mds.py\u001b[0m in \u001b[0;36msmacof\u001b[0;34m(dissimilarities, metric, n_components, init, n_init, n_jobs, max_iter, verbose, eps, random_state, return_n_iter)\u001b[0m\n\u001b[1;32m    250\u001b[0m                 \u001b[0mn_components\u001b[0m\u001b[0;34m=\u001b[0m\u001b[0mn_components\u001b[0m\u001b[0;34m,\u001b[0m \u001b[0minit\u001b[0m\u001b[0;34m=\u001b[0m\u001b[0minit\u001b[0m\u001b[0;34m,\u001b[0m\u001b[0;34m\u001b[0m\u001b[0;34m\u001b[0m\u001b[0m\n\u001b[1;32m    251\u001b[0m                 \u001b[0mmax_iter\u001b[0m\u001b[0;34m=\u001b[0m\u001b[0mmax_iter\u001b[0m\u001b[0;34m,\u001b[0m \u001b[0mverbose\u001b[0m\u001b[0;34m=\u001b[0m\u001b[0mverbose\u001b[0m\u001b[0;34m,\u001b[0m\u001b[0;34m\u001b[0m\u001b[0;34m\u001b[0m\u001b[0m\n\u001b[0;32m--> 252\u001b[0;31m                 eps=eps, random_state=random_state)\n\u001b[0m\u001b[1;32m    253\u001b[0m             \u001b[0;32mif\u001b[0m \u001b[0mbest_stress\u001b[0m \u001b[0;32mis\u001b[0m \u001b[0;32mNone\u001b[0m \u001b[0;32mor\u001b[0m \u001b[0mstress\u001b[0m \u001b[0;34m<\u001b[0m \u001b[0mbest_stress\u001b[0m\u001b[0;34m:\u001b[0m\u001b[0;34m\u001b[0m\u001b[0;34m\u001b[0m\u001b[0m\n\u001b[1;32m    254\u001b[0m                 \u001b[0mbest_stress\u001b[0m \u001b[0;34m=\u001b[0m \u001b[0mstress\u001b[0m\u001b[0;34m\u001b[0m\u001b[0;34m\u001b[0m\u001b[0m\n",
      "\u001b[0;32m/opt/anaconda3/envs/qiime2-2020.6-NEW/lib/python3.6/site-packages/sklearn/manifold/_mds.py\u001b[0m in \u001b[0;36m_smacof_single\u001b[0;34m(dissimilarities, metric, n_components, init, max_iter, verbose, eps, random_state)\u001b[0m\n\u001b[1;32m     90\u001b[0m     \u001b[0;32mfor\u001b[0m \u001b[0mit\u001b[0m \u001b[0;32min\u001b[0m \u001b[0mrange\u001b[0m\u001b[0;34m(\u001b[0m\u001b[0mmax_iter\u001b[0m\u001b[0;34m)\u001b[0m\u001b[0;34m:\u001b[0m\u001b[0;34m\u001b[0m\u001b[0;34m\u001b[0m\u001b[0m\n\u001b[1;32m     91\u001b[0m         \u001b[0;31m# Compute distance and monotonic regression\u001b[0m\u001b[0;34m\u001b[0m\u001b[0;34m\u001b[0m\u001b[0;34m\u001b[0m\u001b[0m\n\u001b[0;32m---> 92\u001b[0;31m         \u001b[0mdis\u001b[0m \u001b[0;34m=\u001b[0m \u001b[0meuclidean_distances\u001b[0m\u001b[0;34m(\u001b[0m\u001b[0mX\u001b[0m\u001b[0;34m)\u001b[0m\u001b[0;34m\u001b[0m\u001b[0;34m\u001b[0m\u001b[0m\n\u001b[0m\u001b[1;32m     93\u001b[0m \u001b[0;34m\u001b[0m\u001b[0m\n\u001b[1;32m     94\u001b[0m         \u001b[0;32mif\u001b[0m \u001b[0mmetric\u001b[0m\u001b[0;34m:\u001b[0m\u001b[0;34m\u001b[0m\u001b[0;34m\u001b[0m\u001b[0m\n",
      "\u001b[0;32m/opt/anaconda3/envs/qiime2-2020.6-NEW/lib/python3.6/site-packages/sklearn/utils/validation.py\u001b[0m in \u001b[0;36minner_f\u001b[0;34m(*args, **kwargs)\u001b[0m\n\u001b[1;32m     71\u001b[0m                           FutureWarning)\n\u001b[1;32m     72\u001b[0m         \u001b[0mkwargs\u001b[0m\u001b[0;34m.\u001b[0m\u001b[0mupdate\u001b[0m\u001b[0;34m(\u001b[0m\u001b[0;34m{\u001b[0m\u001b[0mk\u001b[0m\u001b[0;34m:\u001b[0m \u001b[0marg\u001b[0m \u001b[0;32mfor\u001b[0m \u001b[0mk\u001b[0m\u001b[0;34m,\u001b[0m \u001b[0marg\u001b[0m \u001b[0;32min\u001b[0m \u001b[0mzip\u001b[0m\u001b[0;34m(\u001b[0m\u001b[0msig\u001b[0m\u001b[0;34m.\u001b[0m\u001b[0mparameters\u001b[0m\u001b[0;34m,\u001b[0m \u001b[0margs\u001b[0m\u001b[0;34m)\u001b[0m\u001b[0;34m}\u001b[0m\u001b[0;34m)\u001b[0m\u001b[0;34m\u001b[0m\u001b[0;34m\u001b[0m\u001b[0m\n\u001b[0;32m---> 73\u001b[0;31m         \u001b[0;32mreturn\u001b[0m \u001b[0mf\u001b[0m\u001b[0;34m(\u001b[0m\u001b[0;34m**\u001b[0m\u001b[0mkwargs\u001b[0m\u001b[0;34m)\u001b[0m\u001b[0;34m\u001b[0m\u001b[0;34m\u001b[0m\u001b[0m\n\u001b[0m\u001b[1;32m     74\u001b[0m     \u001b[0;32mreturn\u001b[0m \u001b[0minner_f\u001b[0m\u001b[0;34m\u001b[0m\u001b[0;34m\u001b[0m\u001b[0m\n\u001b[1;32m     75\u001b[0m \u001b[0;34m\u001b[0m\u001b[0m\n",
      "\u001b[0;32m/opt/anaconda3/envs/qiime2-2020.6-NEW/lib/python3.6/site-packages/sklearn/metrics/pairwise.py\u001b[0m in \u001b[0;36meuclidean_distances\u001b[0;34m(X, Y, Y_norm_squared, squared, X_norm_squared)\u001b[0m\n\u001b[1;32m    307\u001b[0m     \u001b[0;32melse\u001b[0m\u001b[0;34m:\u001b[0m\u001b[0;34m\u001b[0m\u001b[0;34m\u001b[0m\u001b[0m\n\u001b[1;32m    308\u001b[0m         \u001b[0;31m# if dtype is already float64, no need to chunk and upcast\u001b[0m\u001b[0;34m\u001b[0m\u001b[0;34m\u001b[0m\u001b[0;34m\u001b[0m\u001b[0m\n\u001b[0;32m--> 309\u001b[0;31m         \u001b[0mdistances\u001b[0m \u001b[0;34m=\u001b[0m \u001b[0;34m-\u001b[0m \u001b[0;36m2\u001b[0m \u001b[0;34m*\u001b[0m \u001b[0msafe_sparse_dot\u001b[0m\u001b[0;34m(\u001b[0m\u001b[0mX\u001b[0m\u001b[0;34m,\u001b[0m \u001b[0mY\u001b[0m\u001b[0;34m.\u001b[0m\u001b[0mT\u001b[0m\u001b[0;34m,\u001b[0m \u001b[0mdense_output\u001b[0m\u001b[0;34m=\u001b[0m\u001b[0;32mTrue\u001b[0m\u001b[0;34m)\u001b[0m\u001b[0;34m\u001b[0m\u001b[0;34m\u001b[0m\u001b[0m\n\u001b[0m\u001b[1;32m    310\u001b[0m         \u001b[0mdistances\u001b[0m \u001b[0;34m+=\u001b[0m \u001b[0mXX\u001b[0m\u001b[0;34m\u001b[0m\u001b[0;34m\u001b[0m\u001b[0m\n\u001b[1;32m    311\u001b[0m         \u001b[0mdistances\u001b[0m \u001b[0;34m+=\u001b[0m \u001b[0mYY\u001b[0m\u001b[0;34m\u001b[0m\u001b[0;34m\u001b[0m\u001b[0m\n",
      "\u001b[0;32m/opt/anaconda3/envs/qiime2-2020.6-NEW/lib/python3.6/site-packages/sklearn/utils/validation.py\u001b[0m in \u001b[0;36minner_f\u001b[0;34m(*args, **kwargs)\u001b[0m\n\u001b[1;32m     71\u001b[0m                           FutureWarning)\n\u001b[1;32m     72\u001b[0m         \u001b[0mkwargs\u001b[0m\u001b[0;34m.\u001b[0m\u001b[0mupdate\u001b[0m\u001b[0;34m(\u001b[0m\u001b[0;34m{\u001b[0m\u001b[0mk\u001b[0m\u001b[0;34m:\u001b[0m \u001b[0marg\u001b[0m \u001b[0;32mfor\u001b[0m \u001b[0mk\u001b[0m\u001b[0;34m,\u001b[0m \u001b[0marg\u001b[0m \u001b[0;32min\u001b[0m \u001b[0mzip\u001b[0m\u001b[0;34m(\u001b[0m\u001b[0msig\u001b[0m\u001b[0;34m.\u001b[0m\u001b[0mparameters\u001b[0m\u001b[0;34m,\u001b[0m \u001b[0margs\u001b[0m\u001b[0;34m)\u001b[0m\u001b[0;34m}\u001b[0m\u001b[0;34m)\u001b[0m\u001b[0;34m\u001b[0m\u001b[0;34m\u001b[0m\u001b[0m\n\u001b[0;32m---> 73\u001b[0;31m         \u001b[0;32mreturn\u001b[0m \u001b[0mf\u001b[0m\u001b[0;34m(\u001b[0m\u001b[0;34m**\u001b[0m\u001b[0mkwargs\u001b[0m\u001b[0;34m)\u001b[0m\u001b[0;34m\u001b[0m\u001b[0;34m\u001b[0m\u001b[0m\n\u001b[0m\u001b[1;32m     74\u001b[0m     \u001b[0;32mreturn\u001b[0m \u001b[0minner_f\u001b[0m\u001b[0;34m\u001b[0m\u001b[0;34m\u001b[0m\u001b[0m\n\u001b[1;32m     75\u001b[0m \u001b[0;34m\u001b[0m\u001b[0m\n",
      "\u001b[0;32m/opt/anaconda3/envs/qiime2-2020.6-NEW/lib/python3.6/site-packages/sklearn/utils/extmath.py\u001b[0m in \u001b[0;36msafe_sparse_dot\u001b[0;34m(a, b, dense_output)\u001b[0m\n\u001b[1;32m    151\u001b[0m             \u001b[0mret\u001b[0m \u001b[0;34m=\u001b[0m \u001b[0mnp\u001b[0m\u001b[0;34m.\u001b[0m\u001b[0mdot\u001b[0m\u001b[0;34m(\u001b[0m\u001b[0ma\u001b[0m\u001b[0;34m,\u001b[0m \u001b[0mb\u001b[0m\u001b[0;34m)\u001b[0m\u001b[0;34m\u001b[0m\u001b[0;34m\u001b[0m\u001b[0m\n\u001b[1;32m    152\u001b[0m     \u001b[0;32melse\u001b[0m\u001b[0;34m:\u001b[0m\u001b[0;34m\u001b[0m\u001b[0;34m\u001b[0m\u001b[0m\n\u001b[0;32m--> 153\u001b[0;31m         \u001b[0mret\u001b[0m \u001b[0;34m=\u001b[0m \u001b[0ma\u001b[0m \u001b[0;34m@\u001b[0m \u001b[0mb\u001b[0m\u001b[0;34m\u001b[0m\u001b[0;34m\u001b[0m\u001b[0m\n\u001b[0m\u001b[1;32m    154\u001b[0m \u001b[0;34m\u001b[0m\u001b[0m\n\u001b[1;32m    155\u001b[0m     if (sparse.issparse(a) and sparse.issparse(b)\n",
      "\u001b[0;31mKeyboardInterrupt\u001b[0m: "
     ]
    }
   ],
   "source": [
    "ordination = MDS(dissimilarity=\"precomputed\")\n",
    "\n",
    "coords = ordination.fit_transform(ord_distmat)"
   ]
  },
  {
   "cell_type": "code",
   "execution_count": 516,
   "metadata": {},
   "outputs": [],
   "source": [
    "from skbio.stats import ordination"
   ]
  },
  {
   "cell_type": "code",
   "execution_count": 517,
   "metadata": {},
   "outputs": [
    {
     "name": "stderr",
     "output_type": "stream",
     "text": [
      "/opt/anaconda3/envs/qiime2-2020.6-NEW/lib/python3.6/site-packages/skbio/stats/ordination/_principal_coordinate_analysis.py:152: RuntimeWarning: The result contains negative eigenvalues. Please compare their magnitude with the magnitude of some of the largest positive eigenvalues. If the negative ones are smaller, it's probably safe to ignore them, but if they are large in magnitude, the results won't be useful. See the Notes section for more details. The smallest eigenvalue is -0.6752054311187019 and the largest is 27.247498602571117.\n",
      "  RuntimeWarning\n"
     ]
    }
   ],
   "source": [
    "PCoA = ordination.pcoa(ord_distmat,\n",
    "                       number_of_dimensions=3)"
   ]
  },
  {
   "cell_type": "code",
   "execution_count": 524,
   "metadata": {},
   "outputs": [
    {
     "data": {
      "text/plain": [
       "(4203, 4203)"
      ]
     },
     "execution_count": 524,
     "metadata": {},
     "output_type": "execute_result"
    }
   ],
   "source": [
    "PCoA.samples.shape"
   ]
  },
  {
   "cell_type": "code",
   "execution_count": 526,
   "metadata": {},
   "outputs": [
    {
     "data": {
      "text/plain": [
       "BC-0    1 - Yes\n",
       "BC-1    1 - Yes\n",
       "BC-2    1 - Yes\n",
       "BC-3    1 - Yes\n",
       "BC-4    1 - Yes\n",
       "         ...   \n",
       "44.0    1 - Yes\n",
       "45.0    1 - Yes\n",
       "46.0    1 - Yes\n",
       "6.0      2 - No\n",
       "8.0      2 - No\n",
       "Name: hcvsbc-cat, Length: 4203, dtype: object"
      ]
     },
     "execution_count": 526,
     "metadata": {},
     "output_type": "execute_result"
    }
   ],
   "source": [
    "data_bcells_df2[\"hcvsbc-cat\"]"
   ]
  },
  {
   "cell_type": "code",
   "execution_count": 525,
   "metadata": {},
   "outputs": [
    {
     "data": {
      "text/plain": [
       "(4203, 662)"
      ]
     },
     "execution_count": 525,
     "metadata": {},
     "output_type": "execute_result"
    }
   ],
   "source": [
    "data_bcells_df2.shape"
   ]
  },
  {
   "cell_type": "code",
   "execution_count": 528,
   "metadata": {},
   "outputs": [
    {
     "name": "stderr",
     "output_type": "stream",
     "text": [
      "/opt/anaconda3/envs/qiime2-2020.6-NEW/lib/python3.6/site-packages/pandas/core/indexing.py:376: SettingWithCopyWarning: \n",
      "A value is trying to be set on a copy of a slice from a DataFrame.\n",
      "Try using .loc[row_indexer,col_indexer] = value instead\n",
      "\n",
      "See the caveats in the documentation: http://pandas.pydata.org/pandas-docs/stable/user_guide/indexing.html#returning-a-view-versus-a-copy\n",
      "  self.obj[key] = _infer_fill_value(value)\n",
      "/opt/anaconda3/envs/qiime2-2020.6-NEW/lib/python3.6/site-packages/pandas/core/indexing.py:494: SettingWithCopyWarning: \n",
      "A value is trying to be set on a copy of a slice from a DataFrame.\n",
      "Try using .loc[row_indexer,col_indexer] = value instead\n",
      "\n",
      "See the caveats in the documentation: http://pandas.pydata.org/pandas-docs/stable/user_guide/indexing.html#returning-a-view-versus-a-copy\n",
      "  self.obj[item] = s\n"
     ]
    },
    {
     "data": {
      "text/html": [
       "<div>\n",
       "<style scoped>\n",
       "    .dataframe tbody tr th:only-of-type {\n",
       "        vertical-align: middle;\n",
       "    }\n",
       "\n",
       "    .dataframe tbody tr th {\n",
       "        vertical-align: top;\n",
       "    }\n",
       "\n",
       "    .dataframe thead th {\n",
       "        text-align: right;\n",
       "    }\n",
       "</style>\n",
       "<table border=\"1\" class=\"dataframe\">\n",
       "  <thead>\n",
       "    <tr style=\"text-align: right;\">\n",
       "      <th></th>\n",
       "      <th>PC1</th>\n",
       "      <th>PC2</th>\n",
       "      <th>hcvsbc-cat</th>\n",
       "    </tr>\n",
       "  </thead>\n",
       "  <tbody>\n",
       "    <tr>\n",
       "      <th>BC-0</th>\n",
       "      <td>-0.114125</td>\n",
       "      <td>-0.164709</td>\n",
       "      <td>1 - Yes</td>\n",
       "    </tr>\n",
       "    <tr>\n",
       "      <th>BC-1</th>\n",
       "      <td>-0.742168</td>\n",
       "      <td>0.021848</td>\n",
       "      <td>1 - Yes</td>\n",
       "    </tr>\n",
       "    <tr>\n",
       "      <th>BC-2</th>\n",
       "      <td>-0.674543</td>\n",
       "      <td>0.022770</td>\n",
       "      <td>1 - Yes</td>\n",
       "    </tr>\n",
       "    <tr>\n",
       "      <th>BC-3</th>\n",
       "      <td>-0.076485</td>\n",
       "      <td>0.346900</td>\n",
       "      <td>1 - Yes</td>\n",
       "    </tr>\n",
       "    <tr>\n",
       "      <th>BC-4</th>\n",
       "      <td>-0.759938</td>\n",
       "      <td>0.024689</td>\n",
       "      <td>1 - Yes</td>\n",
       "    </tr>\n",
       "    <tr>\n",
       "      <th>...</th>\n",
       "      <td>...</td>\n",
       "      <td>...</td>\n",
       "      <td>...</td>\n",
       "    </tr>\n",
       "    <tr>\n",
       "      <th>44.0</th>\n",
       "      <td>-0.694830</td>\n",
       "      <td>0.032872</td>\n",
       "      <td>1 - Yes</td>\n",
       "    </tr>\n",
       "    <tr>\n",
       "      <th>45.0</th>\n",
       "      <td>-0.808147</td>\n",
       "      <td>0.022670</td>\n",
       "      <td>1 - Yes</td>\n",
       "    </tr>\n",
       "    <tr>\n",
       "      <th>46.0</th>\n",
       "      <td>-0.496292</td>\n",
       "      <td>-0.113372</td>\n",
       "      <td>1 - Yes</td>\n",
       "    </tr>\n",
       "    <tr>\n",
       "      <th>6.0</th>\n",
       "      <td>-0.877505</td>\n",
       "      <td>0.029841</td>\n",
       "      <td>2 - No</td>\n",
       "    </tr>\n",
       "    <tr>\n",
       "      <th>8.0</th>\n",
       "      <td>-0.837976</td>\n",
       "      <td>0.036419</td>\n",
       "      <td>2 - No</td>\n",
       "    </tr>\n",
       "  </tbody>\n",
       "</table>\n",
       "<p>4203 rows × 3 columns</p>\n",
       "</div>"
      ],
      "text/plain": [
       "           PC1       PC2 hcvsbc-cat\n",
       "BC-0 -0.114125 -0.164709    1 - Yes\n",
       "BC-1 -0.742168  0.021848    1 - Yes\n",
       "BC-2 -0.674543  0.022770    1 - Yes\n",
       "BC-3 -0.076485  0.346900    1 - Yes\n",
       "BC-4 -0.759938  0.024689    1 - Yes\n",
       "...        ...       ...        ...\n",
       "44.0 -0.694830  0.032872    1 - Yes\n",
       "45.0 -0.808147  0.022670    1 - Yes\n",
       "46.0 -0.496292 -0.113372    1 - Yes\n",
       "6.0  -0.877505  0.029841     2 - No\n",
       "8.0  -0.837976  0.036419     2 - No\n",
       "\n",
       "[4203 rows x 3 columns]"
      ]
     },
     "execution_count": 528,
     "metadata": {},
     "output_type": "execute_result"
    }
   ],
   "source": [
    "coords_df = PCoA.samples[[\"PC1\", \"PC2\"]]\n",
    "coords_df.index = data_bcells_df2.index\n",
    "coords_df.loc[:,\"hcvsbc-cat\"] = data_bcells_df2.loc[:,\"hcvsbc-cat\"]\n",
    "\n",
    "coords_df"
   ]
  },
  {
   "cell_type": "code",
   "execution_count": 529,
   "metadata": {},
   "outputs": [
    {
     "data": {
      "text/plain": [
       "<matplotlib.axes._subplots.AxesSubplot at 0x1269f5390>"
      ]
     },
     "execution_count": 529,
     "metadata": {},
     "output_type": "execute_result"
    },
    {
     "data": {
      "image/png": "[encoded data removed]",
      "text/plain": [
       "<Figure size 432x288 with 1 Axes>"
      ]
     },
     "metadata": {
      "needs_background": "light"
     },
     "output_type": "display_data"
    }
   ],
   "source": [
    "sns.scatterplot(x=\"PC1\",\n",
    "                y=\"PC2\",\n",
    "                hue=\"hcvsbc-cat\",\n",
    "                data=coords_df)"
   ]
  },
  {
   "cell_type": "markdown",
   "metadata": {},
   "source": [
    "# HMP Data"
   ]
  },
  {
   "cell_type": "code",
   "execution_count": 5,
   "metadata": {},
   "outputs": [],
   "source": [
    "from biom import load_table"
   ]
  },
  {
   "cell_type": "code",
   "execution_count": 6,
   "metadata": {},
   "outputs": [
    {
     "name": "stdout",
     "output_type": "stream",
     "text": [
      "/Users/johnsterrett/Research-Projects/Boulder/AIS\n"
     ]
    }
   ],
   "source": [
    "cd ../AIS"
   ]
  },
  {
   "cell_type": "code",
   "execution_count": 7,
   "metadata": {},
   "outputs": [],
   "source": [
    "table = load_table('HMP-data/HMP_69605_otu_table.biom') "
   ]
  },
  {
   "cell_type": "code",
   "execution_count": 8,
   "metadata": {},
   "outputs": [],
   "source": [
    "data = table.to_dataframe(dense=True)"
   ]
  },
  {
   "cell_type": "code",
   "execution_count": 9,
   "metadata": {},
   "outputs": [],
   "source": [
    "data = data.T"
   ]
  },
  {
   "cell_type": "code",
   "execution_count": 10,
   "metadata": {},
   "outputs": [],
   "source": [
    "mapping = pd.read_csv(\"HMP-data/HMP_V35_metadata.tsv\", sep=\"\\t\",\n",
    "                     index_col=\"sample_id\")"
   ]
  },
  {
   "cell_type": "code",
   "execution_count": 11,
   "metadata": {},
   "outputs": [
    {
     "data": {
      "text/plain": [
       "(6346, 31)"
      ]
     },
     "execution_count": 11,
     "metadata": {},
     "output_type": "execute_result"
    }
   ],
   "source": [
    "mapping.shape"
   ]
  },
  {
   "cell_type": "code",
   "execution_count": 12,
   "metadata": {},
   "outputs": [
    {
     "data": {
      "text/plain": [
       "(6067, 10792)"
      ]
     },
     "execution_count": 12,
     "metadata": {},
     "output_type": "execute_result"
    }
   ],
   "source": [
    "data.shape"
   ]
  },
  {
   "cell_type": "markdown",
   "metadata": {},
   "source": [
    "## Filter for only saliva and sebum rows, columns > 0"
   ]
  },
  {
   "cell_type": "code",
   "execution_count": 13,
   "metadata": {},
   "outputs": [
    {
     "data": {
      "text/plain": [
       "saliva                         2638\n",
       "sebum                          2080\n",
       "mucus                           447\n",
       "stool                           402\n",
       "subgingival dental plaque       391\n",
       "supragingival dental plaque     388\n",
       "Name: sample_type, dtype: int64"
      ]
     },
     "execution_count": 13,
     "metadata": {},
     "output_type": "execute_result"
    }
   ],
   "source": [
    "mapping[\"sample_type\"].value_counts()"
   ]
  },
  {
   "cell_type": "code",
   "execution_count": 14,
   "metadata": {},
   "outputs": [],
   "source": [
    "mapping = mapping[(mapping[\"sample_type\"]==\"saliva\") | (mapping[\"sample_type\"]==\"sebum\")]"
   ]
  },
  {
   "cell_type": "code",
   "execution_count": 15,
   "metadata": {},
   "outputs": [],
   "source": [
    "data = data.reindex(mapping.index)"
   ]
  },
  {
   "cell_type": "code",
   "execution_count": 16,
   "metadata": {},
   "outputs": [],
   "source": [
    "datamat = np.array(data)\n",
    "datamat /= datamat.sum(axis=1, keepdims=True)\n",
    "\n",
    "data = pd.DataFrame(datamat,\n",
    "                    index=data.index,\n",
    "                    columns=data.columns)"
   ]
  },
  {
   "cell_type": "code",
   "execution_count": 17,
   "metadata": {},
   "outputs": [],
   "source": [
    "data = data.loc[:, data.sum(axis=0) > 0.05]"
   ]
  },
  {
   "cell_type": "code",
   "execution_count": 18,
   "metadata": {},
   "outputs": [],
   "source": [
    "data.dropna(axis=0, inplace=True)"
   ]
  },
  {
   "cell_type": "code",
   "execution_count": 19,
   "metadata": {},
   "outputs": [],
   "source": [
    "mapping = mapping.reindex(data.index)"
   ]
  },
  {
   "cell_type": "markdown",
   "metadata": {},
   "source": [
    "## Train Test Split"
   ]
  },
  {
   "cell_type": "code",
   "execution_count": 20,
   "metadata": {},
   "outputs": [],
   "source": [
    "from sklearn.model_selection import train_test_split"
   ]
  },
  {
   "cell_type": "code",
   "execution_count": 21,
   "metadata": {},
   "outputs": [],
   "source": [
    "y = mapping[\"sample_type\"]"
   ]
  },
  {
   "cell_type": "code",
   "execution_count": 22,
   "metadata": {},
   "outputs": [],
   "source": [
    "X_train, X_test, y_train, y_test = train_test_split(data, y, test_size=0.33, random_state=42)"
   ]
  },
  {
   "cell_type": "markdown",
   "metadata": {},
   "source": [
    "## Assign Parameters"
   ]
  },
  {
   "cell_type": "code",
   "execution_count": 23,
   "metadata": {},
   "outputs": [],
   "source": [
    "antigen = \"sebum\"\n",
    "SELF_antigen = \"saliva\"\n",
    "\n",
    "activation_dissimilarity_threshold = 0.5\n",
    "self_reactivity_threshold = 0.5\n",
    "\n",
    "#we want 1 initial match for each positive antigen\n",
    "#num_initial_matches_needed = sum(y_train==antigen)\n",
    "\n",
    "#maybe we want 10 matches\n",
    "num_initial_matches_needed = 250\n",
    "\n",
    "hypermutations_per_success = 100\n",
    "\n",
    "hypermutation_training_rounds = 20"
   ]
  },
  {
   "cell_type": "markdown",
   "metadata": {},
   "source": [
    "## Generate Initial Matches"
   ]
  },
  {
   "cell_type": "code",
   "execution_count": 24,
   "metadata": {},
   "outputs": [
    {
     "name": "stdout",
     "output_type": "stream",
     "text": [
      "CPU times: user 39min 11s, sys: 14 s, total: 39min 25s\n",
      "Wall time: 39min 35s\n"
     ]
    }
   ],
   "source": [
    "%%time\n",
    "\n",
    "successful_attempts = []\n",
    "successful_indexes = []\n",
    "\n",
    "successful_bcells = np.empty((0,data.shape[1]))\n",
    "attempt=0\n",
    "\n",
    "density = get_density(X_train)\n",
    "rvs = fit_to_microbiome(X_train)\n",
    "\n",
    "\n",
    "while len(successful_bcells) < num_initial_matches_needed:\n",
    "    attempt +=1\n",
    "    bcells = populate_initial(n_features=X_train.shape[1], n_cells=100, data_rvs=rvs)\n",
    "                                        \n",
    "                                        #BCELLS MUST COME FIRST HERE - maybe make a function for this?\n",
    "    matches = sum(spatial.distance.cdist(bcells, X_train, metric='braycurtis').flatten() < activation_dissimilarity_threshold)\n",
    "    \n",
    "    for match in range(matches):\n",
    "        successful_attempts.append(attempt)\n",
    "    \n",
    "    if matches > 0:\n",
    "        good_ones = np.where( spatial.distance.cdist(bcells, \n",
    "                                                     X_train[y_train==antigen], \n",
    "                                                     metric='braycurtis') < activation_dissimilarity_threshold)[0]\n",
    "\n",
    "        self_reactive = np.where( spatial.distance.cdist(bcells[good_ones], \n",
    "                                                      X_train[y_train==SELF_antigen],\n",
    "                                                      metric='braycurtis') < self_reactivity_threshold )[0]\n",
    "        \n",
    "        good_ones = list(set(good_ones) - (set(self_reactive)))\n",
    "        \n",
    "        successful_indexes += list(good_ones)    \n",
    "        \n",
    "        successful_bcells = np.vstack((successful_bcells, \n",
    "                                       bcells[good_ones]))\n",
    "                #using [0] in the line above grabs only the b cell's index, not the sample data\n",
    "            \n"
   ]
  },
  {
   "cell_type": "code",
   "execution_count": 25,
   "metadata": {},
   "outputs": [
    {
     "name": "stdout",
     "output_type": "stream",
     "text": [
      "CPU times: user 3min 11s, sys: 10.2 s, total: 3min 21s\n",
      "Wall time: 3min 22s\n"
     ]
    }
   ],
   "source": [
    "%%time\n",
    "\n",
    "successful_bcells_2 = successful_bcells\n",
    "hypermutation_round = 0\n",
    "\n",
    "while (len(successful_bcells_2) < 10000):\n",
    "    hypermutation_round +=1\n",
    "    for b_cell in successful_bcells_2:\n",
    "\n",
    "        num_successful_mutations = hypermutations_per_success #just to get things started\n",
    "\n",
    "        #while num_successful_mutations > (0.9 * hypermutations_per_success):\n",
    "        #for i in range(hypermutation_training_rounds):    \n",
    "            #create hypermuations_per_success new bcells\n",
    "        mutated_bcells = np.empty((0,X_train.shape[1]))\n",
    "\n",
    "        for i in range(hypermutations_per_success):\n",
    "            #mutate to be between 0.5 and 1.5 * the original value for each\n",
    "            mutated_bcell = b_cell * ( np.random.rand(len(b_cell)) + 0.5 )\n",
    "\n",
    "            mutated_bcells = np.vstack((mutated_bcells, \n",
    "                                        mutated_bcell))\n",
    "        #convert to relative abundances\n",
    "        mutated_bcells /= mutated_bcells.sum(axis=1, keepdims=True)\n",
    "\n",
    "        #grab the ones that activate against a non-self sample    \n",
    "        good_mutations = np.where( spatial.distance.cdist(mutated_bcells, \n",
    "                                                          X_train[y_train==antigen], \n",
    "                                                          metric='braycurtis') < activation_dissimilarity_threshold)[0]\n",
    "        #identify ones that are self-reactive\n",
    "        self_reactive_mutations = np.where( spatial.distance.cdist(bcells[good_mutations], \n",
    "                                                                  X_train[y_train==SELF_antigen],\n",
    "                                                                  metric='braycurtis') < self_reactivity_threshold )[0]\n",
    "        #remove self-reactive indexes\n",
    "        successful_mutations = list(set(good_mutations) - (set(self_reactive_mutations)))\n",
    "\n",
    "\n",
    "        num_successful_mutations = len(successful_mutations)\n",
    "\n",
    "        #concatenate them together\n",
    "        successful_bcells_2 = np.vstack((successful_bcells_2, \n",
    "                                       mutated_bcells[successful_mutations]))\n",
    "        \n",
    "        if len(successful_bcells_2) > 10000:\n",
    "            break"
   ]
  },
  {
   "cell_type": "markdown",
   "metadata": {},
   "source": [
    "## Ordination of the results"
   ]
  },
  {
   "cell_type": "code",
   "execution_count": 26,
   "metadata": {},
   "outputs": [],
   "source": [
    "successful_bcells_df = pd.DataFrame(successful_bcells_2, \n",
    "                                    columns=data.columns,\n",
    "                                    index = [( \"BC-\" + str(x) ) for x in range(successful_bcells_2.shape[0])])\n",
    "\n",
    "data_bcells_df = pd.concat([successful_bcells_df, X_train])\n",
    "ord_distmat = spatial.distance.squareform(spatial.distance.pdist(data_bcells_df,\n",
    "                                                                metric='braycurtis'))\n",
    "\n"
   ]
  },
  {
   "cell_type": "code",
   "execution_count": null,
   "metadata": {},
   "outputs": [],
   "source": [
    "### D O   N O T   R U N   T H I S   K E R N E L   W I L L   D I E \n",
    "#PCoA = ordination.pcoa(ord_distmat,\n",
    "#                       number_of_dimensions=3)"
   ]
  },
  {
   "cell_type": "code",
   "execution_count": null,
   "metadata": {},
   "outputs": [],
   "source": [
    "#coords_df = PCoA.samples[[\"PC1\", \"PC2\"]]\n",
    "#coords_df.index = data_bcells_df2.index\n",
    "#coords_df.loc[:,\"hcvsbc-cat\"] = data_bcells_df2.loc[:,\"hcvsbc-cat\"]\n",
    "\n",
    "#coords_df"
   ]
  },
  {
   "cell_type": "code",
   "execution_count": null,
   "metadata": {},
   "outputs": [],
   "source": [
    "#sns.scatterplot(x=\"PC1\",\n",
    "#                y=\"PC2\",\n",
    "#                hue=\"hcvsbc-cat\",\n",
    "#                data=coords_df)"
   ]
  },
  {
   "cell_type": "markdown",
   "metadata": {},
   "source": [
    "## Testing results"
   ]
  },
  {
   "cell_type": "code",
   "execution_count": 49,
   "metadata": {},
   "outputs": [],
   "source": [
    "test_dist_mat = spatial.distance.cdist(X_test, \n",
    "                                   successful_bcells_2,\n",
    "                                   metric='braycurtis')"
   ]
  },
  {
   "cell_type": "code",
   "execution_count": 50,
   "metadata": {},
   "outputs": [],
   "source": [
    "test_dist_mat_SELF = spatial.distance.cdist(X_test, \n",
    "                                       X_train[y_train==SELF_antigen],\n",
    "                                       metric='braycurtis')"
   ]
  },
  {
   "cell_type": "code",
   "execution_count": 130,
   "metadata": {},
   "outputs": [],
   "source": [
    "prediction = (pd.Series(test_dist_mat.min(axis=1),\n",
    "                          index=X_test.index) < 0.5 )\n",
    "\n",
    "prediction_SELF = (pd.Series(test_dist_mat_SELF.min(axis=1),\n",
    "                          index=X_test.index) < 0.5 )\n",
    "\n",
    "predictions = pd.concat([prediction, prediction_SELF], axis=1)\n",
    "\n",
    "predictions[\"Bodysite\"] = lambda x: antigen if (predictions[0]) else SELF_antigen"
   ]
  },
  {
   "cell_type": "code",
   "execution_count": 131,
   "metadata": {},
   "outputs": [
    {
     "data": {
      "text/plain": [
       "sample_id\n",
       "1928.SRS013456.SRX019696.SRR041729    False\n",
       "1928.SRS016529.SRX019636.SRR040656    False\n",
       "1928.SRS049229.SRX020514.SRR046777    False\n",
       "1928.SRS014976.SRX020576.SRR046222    False\n",
       "1928.SRS022810.SRX022223.SRR058086    False\n",
       "                                      ...  \n",
       "1928.SRS046196.SRX020533.SRR046619    False\n",
       "1928.SRS011512.SRX020669.SRR045324    False\n",
       "1928.SRS022488.SRX020680.SRR048176    False\n",
       "1928.SRS016547.SRX019636.SRR040606     True\n",
       "1928.SRS018735.SRX020522.SRR044398    False\n",
       "Length: 1474, dtype: bool"
      ]
     },
     "execution_count": 131,
     "metadata": {},
     "output_type": "execute_result"
    }
   ],
   "source": [
    "prediction"
   ]
  },
  {
   "cell_type": "code",
   "execution_count": 134,
   "metadata": {},
   "outputs": [],
   "source": [
    "prediction = prediction.apply(lambda x: antigen if x==True else SELF_antigen)"
   ]
  },
  {
   "cell_type": "code",
   "execution_count": 135,
   "metadata": {},
   "outputs": [
    {
     "name": "stdout",
     "output_type": "stream",
     "text": [
      "Accuracy: 70.96336499321573 %\n"
     ]
    }
   ],
   "source": [
    "accuracy = sum(prediction==y_test)/len(y_test) * 100\n",
    "print(f'Accuracy: {accuracy} %')"
   ]
  },
  {
   "cell_type": "code",
   "execution_count": 136,
   "metadata": {},
   "outputs": [],
   "source": [
    "from sklearn.metrics import classification_report"
   ]
  },
  {
   "cell_type": "code",
   "execution_count": 137,
   "metadata": {},
   "outputs": [
    {
     "name": "stdout",
     "output_type": "stream",
     "text": [
      "              precision    recall  f1-score   support\n",
      "\n",
      "      saliva       0.67      0.93      0.78       826\n",
      "       sebum       0.83      0.43      0.56       648\n",
      "\n",
      "    accuracy                           0.71      1474\n",
      "   macro avg       0.75      0.68      0.67      1474\n",
      "weighted avg       0.74      0.71      0.69      1474\n",
      "\n"
     ]
    }
   ],
   "source": [
    "print(classification_report(y_test, prediction))"
   ]
  },
  {
   "cell_type": "markdown",
   "metadata": {},
   "source": [
    "#### Summary in words:\n",
    "- moderate accuracy\n",
    "- pretty good recall for self antigens\n",
    "- not great recall for antigens of interest. perhaps changing the initial matches needed would be helpful."
   ]
  },
  {
   "cell_type": "code",
   "execution_count": 108,
   "metadata": {},
   "outputs": [
    {
     "name": "stderr",
     "output_type": "stream",
     "text": [
      "/opt/anaconda3/envs/qiime2-2020.6-NEW/lib/python3.6/site-packages/pandas/core/frame.py:4117: SettingWithCopyWarning: \n",
      "A value is trying to be set on a copy of a slice from a DataFrame\n",
      "\n",
      "See the caveats in the documentation: http://pandas.pydata.org/pandas-docs/stable/user_guide/indexing.html#returning-a-view-versus-a-copy\n",
      "  errors=errors,\n"
     ]
    }
   ],
   "source": [
    "#X_train.drop(\"Cat\", axis=1, inplace=True)"
   ]
  },
  {
   "cell_type": "markdown",
   "metadata": {},
   "source": [
    "## Compare to Nearest Neighbors"
   ]
  },
  {
   "cell_type": "code",
   "execution_count": 109,
   "metadata": {},
   "outputs": [],
   "source": [
    "from sklearn.neighbors import KNeighborsClassifier\n",
    "neigh = KNeighborsClassifier(n_neighbors=3, metric=\"braycurtis\")"
   ]
  },
  {
   "cell_type": "code",
   "execution_count": 110,
   "metadata": {},
   "outputs": [
    {
     "data": {
      "text/plain": [
       "KNeighborsClassifier(metric='braycurtis', n_neighbors=3)"
      ]
     },
     "execution_count": 110,
     "metadata": {},
     "output_type": "execute_result"
    }
   ],
   "source": [
    "neigh.fit(X_train,y_train)"
   ]
  },
  {
   "cell_type": "code",
   "execution_count": 111,
   "metadata": {},
   "outputs": [],
   "source": [
    "KNN_preds = neigh.predict(X_test)"
   ]
  },
  {
   "cell_type": "code",
   "execution_count": 112,
   "metadata": {},
   "outputs": [],
   "source": [
    "KNN_preds = pd.Series(KNN_preds, index=y_test.index)"
   ]
  },
  {
   "cell_type": "code",
   "execution_count": 113,
   "metadata": {},
   "outputs": [
    {
     "name": "stdout",
     "output_type": "stream",
     "text": [
      "Accuracy: 96.74355495251018 %\n"
     ]
    }
   ],
   "source": [
    "accuracy = sum(KNN_preds==y_test)/len(y_test) * 100\n",
    "print(f'Accuracy: {accuracy} %')"
   ]
  },
  {
   "cell_type": "code",
   "execution_count": 138,
   "metadata": {},
   "outputs": [
    {
     "name": "stdout",
     "output_type": "stream",
     "text": [
      "              precision    recall  f1-score   support\n",
      "\n",
      "      saliva       0.95      0.99      0.97       826\n",
      "       sebum       0.99      0.94      0.96       648\n",
      "\n",
      "    accuracy                           0.97      1474\n",
      "   macro avg       0.97      0.96      0.97      1474\n",
      "weighted avg       0.97      0.97      0.97      1474\n",
      "\n"
     ]
    }
   ],
   "source": [
    "print(classification_report(y_test, KNN_preds))"
   ]
  },
  {
   "cell_type": "markdown",
   "metadata": {},
   "source": [
    "## KNN with AIS output"
   ]
  },
  {
   "cell_type": "code",
   "execution_count": 114,
   "metadata": {},
   "outputs": [
    {
     "name": "stderr",
     "output_type": "stream",
     "text": [
      "/opt/anaconda3/envs/qiime2-2020.6-NEW/lib/python3.6/site-packages/pandas/core/indexing.py:376: SettingWithCopyWarning: \n",
      "A value is trying to be set on a copy of a slice from a DataFrame.\n",
      "Try using .loc[row_indexer,col_indexer] = value instead\n",
      "\n",
      "See the caveats in the documentation: http://pandas.pydata.org/pandas-docs/stable/user_guide/indexing.html#returning-a-view-versus-a-copy\n",
      "  self.obj[key] = _infer_fill_value(value)\n",
      "/opt/anaconda3/envs/qiime2-2020.6-NEW/lib/python3.6/site-packages/pandas/core/indexing.py:494: SettingWithCopyWarning: \n",
      "A value is trying to be set on a copy of a slice from a DataFrame.\n",
      "Try using .loc[row_indexer,col_indexer] = value instead\n",
      "\n",
      "See the caveats in the documentation: http://pandas.pydata.org/pandas-docs/stable/user_guide/indexing.html#returning-a-view-versus-a-copy\n",
      "  self.obj[item] = s\n"
     ]
    }
   ],
   "source": [
    "successful_bcells_df.loc[:,\"Cat\"] = antigen\n",
    "X_train.loc[:,\"Cat\"] = y_train\n",
    "\n",
    "data_bcells_df2 = pd.concat([successful_bcells_df, X_train])"
   ]
  },
  {
   "cell_type": "code",
   "execution_count": 119,
   "metadata": {},
   "outputs": [
    {
     "data": {
      "text/plain": [
       "KNeighborsClassifier(metric='braycurtis', n_neighbors=3)"
      ]
     },
     "execution_count": 119,
     "metadata": {},
     "output_type": "execute_result"
    }
   ],
   "source": [
    "neighAIS = KNeighborsClassifier(n_neighbors=3, metric=\"braycurtis\")\n",
    "neighAIS.fit(data_bcells_df2.drop(\"Cat\", axis=1), data_bcells_df2[\"Cat\"])"
   ]
  },
  {
   "cell_type": "code",
   "execution_count": 120,
   "metadata": {},
   "outputs": [],
   "source": [
    "KNN_preds_AIS = neighAIS.predict(X_test)"
   ]
  },
  {
   "cell_type": "code",
   "execution_count": 121,
   "metadata": {},
   "outputs": [],
   "source": [
    "KNN_preds_AIS = pd.Series(KNN_preds_AIS, index=y_test.index)"
   ]
  },
  {
   "cell_type": "code",
   "execution_count": 122,
   "metadata": {},
   "outputs": [
    {
     "name": "stdout",
     "output_type": "stream",
     "text": [
      "Accuracy: 96.87924016282226 %\n"
     ]
    }
   ],
   "source": [
    "accuracy = sum(KNN_preds_AIS==y_test)/len(y_test) * 100\n",
    "print(f'Accuracy: {accuracy} %')"
   ]
  },
  {
   "cell_type": "code",
   "execution_count": 139,
   "metadata": {},
   "outputs": [
    {
     "name": "stdout",
     "output_type": "stream",
     "text": [
      "              precision    recall  f1-score   support\n",
      "\n",
      "      saliva       0.96      0.99      0.97       826\n",
      "       sebum       0.99      0.94      0.96       648\n",
      "\n",
      "    accuracy                           0.97      1474\n",
      "   macro avg       0.97      0.97      0.97      1474\n",
      "weighted avg       0.97      0.97      0.97      1474\n",
      "\n"
     ]
    }
   ],
   "source": [
    "print(classification_report(y_test, KNN_preds_AIS))"
   ]
  },
  {
   "cell_type": "markdown",
   "metadata": {},
   "source": [
    "# Make demonstration of algo plot for presentation"
   ]
  },
  {
   "cell_type": "code",
   "execution_count": 146,
   "metadata": {},
   "outputs": [],
   "source": [
    "height_inches = [12,25,20,35,60,72,76,64]\n",
    "weight_pounds = [15,60,30,100, 130,190,250,170]\n",
    "classification = [\"dog\", \"dog\", \"dog\", \"dog\",\n",
    "                  \"human\",\"human\",\"human\",\"human\"]"
   ]
  },
  {
   "cell_type": "code",
   "execution_count": 147,
   "metadata": {},
   "outputs": [],
   "source": [
    "example = pd.DataFrame([height_inches, weight_pounds, classification], \n",
    "                       index = [\"height (inches)\",\"weight (pounds)\",\"classification\"]).T"
   ]
  },
  {
   "cell_type": "code",
   "execution_count": 180,
   "metadata": {},
   "outputs": [
    {
     "data": {
      "image/png": "[encoded data removed]",
      "text/plain": [
       "<Figure size 432x288 with 1 Axes>"
      ]
     },
     "metadata": {
      "needs_background": "light"
     },
     "output_type": "display_data"
    }
   ],
   "source": [
    "ax = sns.scatterplot(x = \"height (inches)\",\n",
    "                    y = \"weight (pounds)\",\n",
    "                    hue = \"classification\",\n",
    "                    data = example,\n",
    "                    s=150)\n",
    "ax.set_ylim(0,275)\n",
    "ax.set_xlim(0,80)\n",
    "plt.show()"
   ]
  },
  {
   "cell_type": "code",
   "execution_count": 200,
   "metadata": {},
   "outputs": [],
   "source": [
    "example_bcells = pd.concat([pd.Series(np.repeat(range(0, 80,10), 270/10)), \n",
    "                            pd.Series(np.array([range(0, 270, 10) for i in range(0,80,10)]).flatten())],\n",
    "                          axis=1)"
   ]
  },
  {
   "cell_type": "code",
   "execution_count": 201,
   "metadata": {},
   "outputs": [
    {
     "data": {
      "text/html": [
       "<div>\n",
       "<style scoped>\n",
       "    .dataframe tbody tr th:only-of-type {\n",
       "        vertical-align: middle;\n",
       "    }\n",
       "\n",
       "    .dataframe tbody tr th {\n",
       "        vertical-align: top;\n",
       "    }\n",
       "\n",
       "    .dataframe thead th {\n",
       "        text-align: right;\n",
       "    }\n",
       "</style>\n",
       "<table border=\"1\" class=\"dataframe\">\n",
       "  <thead>\n",
       "    <tr style=\"text-align: right;\">\n",
       "      <th></th>\n",
       "      <th>0</th>\n",
       "      <th>1</th>\n",
       "    </tr>\n",
       "  </thead>\n",
       "  <tbody>\n",
       "    <tr>\n",
       "      <th>0</th>\n",
       "      <td>0</td>\n",
       "      <td>0</td>\n",
       "    </tr>\n",
       "    <tr>\n",
       "      <th>1</th>\n",
       "      <td>0</td>\n",
       "      <td>10</td>\n",
       "    </tr>\n",
       "    <tr>\n",
       "      <th>2</th>\n",
       "      <td>0</td>\n",
       "      <td>20</td>\n",
       "    </tr>\n",
       "    <tr>\n",
       "      <th>3</th>\n",
       "      <td>0</td>\n",
       "      <td>30</td>\n",
       "    </tr>\n",
       "    <tr>\n",
       "      <th>4</th>\n",
       "      <td>0</td>\n",
       "      <td>40</td>\n",
       "    </tr>\n",
       "    <tr>\n",
       "      <th>...</th>\n",
       "      <td>...</td>\n",
       "      <td>...</td>\n",
       "    </tr>\n",
       "    <tr>\n",
       "      <th>211</th>\n",
       "      <td>70</td>\n",
       "      <td>220</td>\n",
       "    </tr>\n",
       "    <tr>\n",
       "      <th>212</th>\n",
       "      <td>70</td>\n",
       "      <td>230</td>\n",
       "    </tr>\n",
       "    <tr>\n",
       "      <th>213</th>\n",
       "      <td>70</td>\n",
       "      <td>240</td>\n",
       "    </tr>\n",
       "    <tr>\n",
       "      <th>214</th>\n",
       "      <td>70</td>\n",
       "      <td>250</td>\n",
       "    </tr>\n",
       "    <tr>\n",
       "      <th>215</th>\n",
       "      <td>70</td>\n",
       "      <td>260</td>\n",
       "    </tr>\n",
       "  </tbody>\n",
       "</table>\n",
       "<p>216 rows × 2 columns</p>\n",
       "</div>"
      ],
      "text/plain": [
       "      0    1\n",
       "0     0    0\n",
       "1     0   10\n",
       "2     0   20\n",
       "3     0   30\n",
       "4     0   40\n",
       "..   ..  ...\n",
       "211  70  220\n",
       "212  70  230\n",
       "213  70  240\n",
       "214  70  250\n",
       "215  70  260\n",
       "\n",
       "[216 rows x 2 columns]"
      ]
     },
     "execution_count": 201,
     "metadata": {},
     "output_type": "execute_result"
    }
   ],
   "source": [
    "example_bcells"
   ]
  },
  {
   "cell_type": "code",
   "execution_count": 305,
   "metadata": {},
   "outputs": [
    {
     "data": {
      "image/png": "[encoded data removed]",
      "text/plain": [
       "<Figure size 432x288 with 1 Axes>"
      ]
     },
     "metadata": {
      "needs_background": "light"
     },
     "output_type": "display_data"
    }
   ],
   "source": [
    "ax = sns.scatterplot(x = \"height (inches)\",\n",
    "                    y = \"weight (pounds)\",\n",
    "                    hue = \"classification\",\n",
    "                    data = example,\n",
    "                    s=150,\n",
    "                    legend=False)\n",
    "ax.scatter(example_bcells[0], example_bcells[1], s=1, c=\"black\", marker=\"v\")\n",
    "ax.set_ylim(0,275)\n",
    "ax.set_xlim(0,80)\n",
    "plt.show()"
   ]
  },
  {
   "cell_type": "code",
   "execution_count": 306,
   "metadata": {},
   "outputs": [],
   "source": [
    "activated_ex_ind = np.where( spatial.distance.cdist(example_bcells, \n",
    "                                                    example[example[\"classification\"]==\"human\"].drop(\"classification\",axis=1), \n",
    "                                                    metric='euclidean') < 20)[0] \n",
    "\n",
    "activated_example = example_bcells.loc[activated_ex_ind]"
   ]
  },
  {
   "cell_type": "code",
   "execution_count": 307,
   "metadata": {},
   "outputs": [
    {
     "data": {
      "image/png": "[encoded data removed]",
      "text/plain": [
       "<Figure size 432x288 with 1 Axes>"
      ]
     },
     "metadata": {
      "needs_background": "light"
     },
     "output_type": "display_data"
    }
   ],
   "source": [
    "ax = sns.scatterplot(x = \"height (inches)\",\n",
    "                    y = \"weight (pounds)\",\n",
    "                    hue = \"classification\",\n",
    "                    data = example,\n",
    "                    s=150,\n",
    "                    legend=False)\n",
    "ax.scatter(activated_example[0], activated_example[1], s=1, c=\"black\", marker=\"v\")\n",
    "ax.set_ylim(0,275)\n",
    "ax.set_xlim(0,80)\n",
    "plt.show()"
   ]
  },
  {
   "cell_type": "code",
   "execution_count": 308,
   "metadata": {},
   "outputs": [],
   "source": [
    "self_reactive_ex_ind = np.where( spatial.distance.cdist(example_bcells, \n",
    "                                                        example[example[\"classification\"]==\"dog\"].drop(\"classification\",axis=1), \n",
    "                                                        metric='euclidean') < 30)[0]\n",
    "\n",
    "activated_example_ind_full = list(set(activated_ex_ind) - (set(self_reactive_ex_ind)))\n",
    "\n",
    "nonself_activated_example = example_bcells.loc[activated_example_ind_full]"
   ]
  },
  {
   "cell_type": "code",
   "execution_count": 357,
   "metadata": {},
   "outputs": [
    {
     "data": {
      "image/png": "[encoded data removed]",
      "text/plain": [
       "<Figure size 432x288 with 1 Axes>"
      ]
     },
     "metadata": {
      "needs_background": "light"
     },
     "output_type": "display_data"
    }
   ],
   "source": [
    "ax = sns.scatterplot(x = \"height (inches)\",\n",
    "                    y = \"weight (pounds)\",\n",
    "                    hue = \"classification\",\n",
    "                    data = example,\n",
    "                    s=150,\n",
    "                    legend=False)\n",
    "ax.scatter(nonself_activated_example[0], nonself_activated_example[1], s=1, c=\"black\", marker=\"v\")\n",
    "ax.set_ylim(0,275)\n",
    "ax.set_xlim(0,80)\n",
    "plt.show()"
   ]
  },
  {
   "cell_type": "code",
   "execution_count": 310,
   "metadata": {},
   "outputs": [],
   "source": [
    "to_mutate_mat = np.array(nonself_activated_example)"
   ]
  },
  {
   "cell_type": "code",
   "execution_count": 367,
   "metadata": {},
   "outputs": [],
   "source": [
    "mutated_bcells_ex = np.empty(shape=(0,2))\n",
    "for bcell_ex in to_mutate_mat:\n",
    "    \n",
    "    for i in range(50):\n",
    "        bcell_ex_mutated = bcell_ex * ( np.random.rand(len(bcell_ex)) / 2 + 0.75 )\n",
    "        mutated_bcells_ex = np.vstack([mutated_bcells_ex,\n",
    "                                      bcell_ex_mutated])\n",
    "        "
   ]
  },
  {
   "cell_type": "code",
   "execution_count": 368,
   "metadata": {},
   "outputs": [],
   "source": [
    "mutated_mat = np.vstack([to_mutate_mat, mutated_bcells_ex])"
   ]
  },
  {
   "cell_type": "code",
   "execution_count": 369,
   "metadata": {},
   "outputs": [
    {
     "data": {
      "image/png": "[encoded data removed]",
      "text/plain": [
       "<Figure size 432x288 with 1 Axes>"
      ]
     },
     "metadata": {
      "needs_background": "light"
     },
     "output_type": "display_data"
    }
   ],
   "source": [
    "ax = sns.scatterplot(x = \"height (inches)\",\n",
    "                    y = \"weight (pounds)\",\n",
    "                    hue = \"classification\",\n",
    "                    data = example,\n",
    "                    s=150,\n",
    "                    legend=False)\n",
    "ax.scatter(mutated_mat[:,0], mutated_mat[:,1], s=1, c=\"black\", marker=\"v\")\n",
    "ax.set_ylim(0,275)\n",
    "ax.set_xlim(0,80)\n",
    "plt.show()"
   ]
  },
  {
   "cell_type": "code",
   "execution_count": 370,
   "metadata": {},
   "outputs": [],
   "source": [
    "nonself_reactive_mutated_ind = np.where( spatial.distance.cdist(mutated_mat, \n",
    "                                                            example[example[\"classification\"]==\"dog\"].drop(\"classification\",axis=1), \n",
    "                                                            metric='euclidean').min(axis=1) > 30)[0]\n",
    "\n",
    "self_reactive_mutated_ind = np.where( spatial.distance.cdist(mutated_mat, \n",
    "                                                            example[example[\"classification\"]==\"dog\"].drop(\"classification\",axis=1), \n",
    "                                                            metric='euclidean') < 30)[0]\n",
    "\n",
    "\n",
    "mutated_mat_2 = mutated_mat[np.unique(nonself_reactive_mutated_ind)]\n",
    "mutated_mat_selfreactive = mutated_mat[np.unique(self_reactive_mutated_ind)]"
   ]
  },
  {
   "cell_type": "code",
   "execution_count": 371,
   "metadata": {},
   "outputs": [
    {
     "data": {
      "image/png": "[encoded data removed]",
      "text/plain": [
       "<Figure size 432x288 with 1 Axes>"
      ]
     },
     "metadata": {
      "needs_background": "light"
     },
     "output_type": "display_data"
    }
   ],
   "source": [
    "ax = sns.scatterplot(x = \"height (inches)\",\n",
    "                    y = \"weight (pounds)\",\n",
    "                    hue = \"classification\",\n",
    "                    data = example,\n",
    "                    s=150,\n",
    "                    legend=False)\n",
    "ax.scatter(mutated_mat_2[:,0], mutated_mat_2[:,1], s=1, c=\"black\", marker=\"v\")\n",
    "ax.scatter(mutated_mat_selfreactive[:,0], mutated_mat_selfreactive[:,1], s=10, c=\"orangered\", marker=\"v\")\n",
    "\n",
    "ax.set_ylim(0,275)\n",
    "ax.set_xlim(0,80)\n",
    "plt.show()"
   ]
  },
  {
   "cell_type": "code",
   "execution_count": 372,
   "metadata": {},
   "outputs": [
    {
     "data": {
      "image/png": "[encoded data removed]",
      "text/plain": [
       "<Figure size 432x288 with 1 Axes>"
      ]
     },
     "metadata": {
      "needs_background": "light"
     },
     "output_type": "display_data"
    }
   ],
   "source": [
    "ax = sns.scatterplot(x = \"height (inches)\",\n",
    "                    y = \"weight (pounds)\",\n",
    "                    hue = \"classification\",\n",
    "                    data = example,\n",
    "                    s=150,\n",
    "                    legend=False)\n",
    "ax.scatter(mutated_mat_2[:,0], mutated_mat_2[:,1], s=1, c=\"black\", marker=\"v\")\n",
    "\n",
    "ax.set_ylim(0,275)\n",
    "ax.set_xlim(0,80)\n",
    "plt.show()"
   ]
  },
  {
   "cell_type": "code",
   "execution_count": 380,
   "metadata": {},
   "outputs": [
    {
     "data": {
      "image/png": "[encoded data removed]",
      "text/plain": [
       "<Figure size 432x288 with 1 Axes>"
      ]
     },
     "metadata": {
      "needs_background": "light"
     },
     "output_type": "display_data"
    }
   ],
   "source": [
    "ax = sns.scatterplot(x = \"height (inches)\",\n",
    "                    y = \"weight (pounds)\",\n",
    "                    hue = \"classification\",\n",
    "                    data = example,\n",
    "                    s=150,\n",
    "                    legend=False)\n",
    "ax.scatter(mutated_mat_2[:,0], mutated_mat_2[:,1], s=50, c=\"tab:orange\", marker=\"o\", alpha=0.15)\n",
    "\n",
    "ax.set_ylim(0,275)\n",
    "ax.set_xlim(0,80)\n",
    "plt.show()"
   ]
  },
  {
   "cell_type": "code",
   "execution_count": 343,
   "metadata": {},
   "outputs": [
    {
     "data": {
      "text/plain": [
       "297"
      ]
     },
     "execution_count": 343,
     "metadata": {},
     "output_type": "execute_result"
    }
   ],
   "source": [
    "len(np.unique(nonself_reactive_mutated_ind))"
   ]
  },
  {
   "cell_type": "code",
   "execution_count": 344,
   "metadata": {},
   "outputs": [
    {
     "data": {
      "text/plain": [
       "297"
      ]
     },
     "execution_count": 344,
     "metadata": {},
     "output_type": "execute_result"
    }
   ],
   "source": [
    "len(mutated_mat_2)"
   ]
  },
  {
   "cell_type": "code",
   "execution_count": 330,
   "metadata": {},
   "outputs": [
    {
     "data": {
      "text/plain": [
       "297"
      ]
     },
     "execution_count": 330,
     "metadata": {},
     "output_type": "execute_result"
    }
   ],
   "source": [
    "len(mutated_mat)"
   ]
  },
  {
   "cell_type": "code",
   "execution_count": 334,
   "metadata": {},
   "outputs": [
    {
     "data": {
      "text/plain": [
       "array([  0,   1,   2,   3,   4,   5,   6,   7,   8,   9,  10,  11,  12,\n",
       "        13,  14,  15,  16,  17,  18,  19,  20,  21,  22,  23,  24,  25,\n",
       "        26,  27,  28,  29,  30,  31,  32,  33,  34,  35,  36,  37,  38,\n",
       "        39,  40,  41,  42,  43,  44,  45,  46,  47,  48,  49,  50,  51,\n",
       "        52,  53,  54,  55,  56,  57,  58,  59,  60,  61,  62,  63,  64,\n",
       "        65,  66,  67,  68,  69,  70,  71,  72,  73,  74,  75,  76,  77,\n",
       "        78,  79,  80,  81,  82,  83,  84,  85,  86,  87,  88,  89,  90,\n",
       "        91,  92,  93,  94,  95,  96,  97,  98,  99, 100, 101, 102, 103,\n",
       "       104, 105, 106, 107, 108, 109, 110, 111, 112, 113, 114, 115, 116,\n",
       "       117, 118, 119, 120, 121, 122, 123, 124, 125, 126, 127, 128, 129,\n",
       "       130, 131, 132, 133, 134, 135, 136, 137, 138, 139, 140, 141, 142,\n",
       "       143, 144, 145, 146, 147, 148, 149, 150, 151, 152, 153, 154, 155,\n",
       "       156, 157, 158, 159, 160, 161, 162, 163, 164, 165, 166, 167, 168,\n",
       "       169, 170, 171, 172, 173, 174, 175, 176, 177, 178, 179, 180, 181,\n",
       "       182, 183, 184, 185, 186, 187, 188, 189, 190, 191, 192, 193, 194,\n",
       "       195, 196, 197, 198, 199, 200, 201, 202, 203, 204, 205, 206, 207,\n",
       "       208, 209, 210, 211, 212, 213, 214, 215, 216, 217, 218, 219, 220,\n",
       "       221, 222, 223, 224, 225, 226, 227, 228, 229, 230, 231, 232, 233,\n",
       "       234, 235, 236, 237, 238, 239, 240, 241, 242, 243, 244, 245, 246,\n",
       "       247, 248, 249, 250, 251, 252, 253, 254, 255, 256, 257, 258, 259,\n",
       "       260, 261, 262, 263, 264, 265, 266, 267, 268, 269, 270, 271, 272,\n",
       "       273, 274, 275, 276, 277, 278, 279, 280, 281, 282, 283, 284, 285,\n",
       "       286, 287, 288, 289, 290, 291, 292, 293, 294, 295, 296])"
      ]
     },
     "execution_count": 334,
     "metadata": {},
     "output_type": "execute_result"
    }
   ],
   "source": [
    "np.unique(nonself_reactive_mutated_ind)"
   ]
  },
  {
   "cell_type": "code",
   "execution_count": 353,
   "metadata": {},
   "outputs": [
    {
     "data": {
      "text/plain": [
       "848"
      ]
     },
     "execution_count": 353,
     "metadata": {},
     "output_type": "execute_result"
    }
   ],
   "source": [
    "len(np.where( spatial.distance.cdist(mutated_mat, \n",
    "                                                            example[example[\"classification\"]==\"dog\"].drop(\"classification\",axis=1), \n",
    "                                                            metric='euclidean') > 100)[0])"
   ]
  },
  {
   "cell_type": "code",
   "execution_count": 363,
   "metadata": {},
   "outputs": [
    {
     "data": {
      "text/plain": [
       "[(0.12156862745098039, 0.4666666666666667, 0.7058823529411765),\n",
       " (1.0, 0.4980392156862745, 0.054901960784313725),\n",
       " (0.17254901960784313, 0.6274509803921569, 0.17254901960784313),\n",
       " (0.8392156862745098, 0.15294117647058825, 0.1568627450980392),\n",
       " (0.5803921568627451, 0.403921568627451, 0.7411764705882353),\n",
       " (0.5490196078431373, 0.33725490196078434, 0.29411764705882354),\n",
       " (0.8901960784313725, 0.4666666666666667, 0.7607843137254902),\n",
       " (0.4980392156862745, 0.4980392156862745, 0.4980392156862745),\n",
       " (0.7372549019607844, 0.7411764705882353, 0.13333333333333333),\n",
       " (0.09019607843137255, 0.7450980392156863, 0.8117647058823529)]"
      ]
     },
     "execution_count": 363,
     "metadata": {},
     "output_type": "execute_result"
    }
   ],
   "source": [
    "sns.color_palette(\"tab10\")\n"
   ]
  },
  {
   "cell_type": "code",
   "execution_count": null,
   "metadata": {},
   "outputs": [],
   "source": []
  }
 ],
 "metadata": {
  "kernelspec": {
   "display_name": "Python 3",
   "language": "python",
   "name": "python3"
  },
  "language_info": {
   "codemirror_mode": {
    "name": "ipython",
    "version": 3
   },
   "file_extension": ".py",
   "mimetype": "text/x-python",
   "name": "python",
   "nbconvert_exporter": "python",
   "pygments_lexer": "ipython3",
   "version": "3.6.10"
  }
 },
 "nbformat": 4,
 "nbformat_minor": 4
}
